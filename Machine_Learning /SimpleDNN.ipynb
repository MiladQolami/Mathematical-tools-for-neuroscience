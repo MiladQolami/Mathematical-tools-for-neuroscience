{
  "nbformat": 4,
  "nbformat_minor": 0,
  "metadata": {
    "colab": {
      "provenance": [],
      "authorship_tag": "ABX9TyPKSetvA9oVPqgZFOBcBHZC",
      "include_colab_link": true
    },
    "kernelspec": {
      "name": "python3",
      "display_name": "Python 3"
    },
    "language_info": {
      "name": "python"
    }
  },
  "cells": [
    {
      "cell_type": "markdown",
      "metadata": {
        "id": "view-in-github",
        "colab_type": "text"
      },
      "source": [
        "<a href=\"https://colab.research.google.com/github/MiladQolami/Mathematical-tools-for-neuroscience/blob/main/Machine_Learning%20/SimpleDNN.ipynb\" target=\"_parent\"><img src=\"https://colab.research.google.com/assets/colab-badge.svg\" alt=\"Open In Colab\"/></a>"
      ]
    },
    {
      "cell_type": "markdown",
      "source": [
        "## Intorduction\n",
        "In this notebook we build a Deep Neural Network (DNN) for a discrimination task. The task is to discriminate whether a grating bar is oriented clockwise or counterclockwise relative to vertical meridian.\n",
        "\n"
      ],
      "metadata": {
        "id": "Fbns1sig_lRx"
      }
    },
    {
      "cell_type": "markdown",
      "source": [
        "## Dataset Preparation\n",
        "**Data Generation**\n",
        "\n",
        "Since this is a specialized dataset, we need to generate synthetic images. Here we want to generate patterns of grating oriented in different direction\n"
      ],
      "metadata": {
        "id": "4Q5N3KRZCtlm"
      }
    },
    {
      "cell_type": "code",
      "source": [
        "import os\n",
        "import numpy as np\n",
        "import matplotlib.pyplot as plt\n",
        "from PIL import Image"
      ],
      "metadata": {
        "id": "p017WxJUABPb"
      },
      "execution_count": 47,
      "outputs": []
    },
    {
      "cell_type": "code",
      "source": [
        "def generate_grating(angle,size=(28,28),frequency=5):\n",
        "\n",
        "  \"\"\"\n",
        "  Genetates sinusoidal grating in image format (PIL)\n",
        "\n",
        "  Parameters:\n",
        "      - angle (float): The angle (in degrees) at which the grating pattern is rotated relative to the vertical axis.\n",
        "                      Positive values rotate the pattern counterclockwise, and negative values rotate it clockwise.\n",
        "      - size (tuple of ints, optional): The size (width, height) of the output image in pixels.\n",
        "                      Defaults to (28, 28), which is a common size for small images like those used in image recognition tasks.\n",
        "      - frequency (float, optional): The frequency of the grating pattern,\n",
        "                      Defaults to 5.\n",
        "\n",
        "      Returns:\n",
        "      - PIL.Image.Image: A PIL Image object containing the generated grating pattern in grayscale (8-bit).\n",
        "                        The pixel values range from 0 (black) to 255 (white).\n",
        "  \"\"\"\n",
        "\n",
        "\n",
        "  # Create a coordinate grid\n",
        "  x = np.linspace(-np.pi,np.pi,size[0])\n",
        "  y = np.linspace(-np.pi,np.pi,size[1])\n",
        "  X,Y = np.meshgrid(x,y)\n",
        "\n",
        "  # Rotate the grid by the given angle\n",
        "  oriRad = np.deg2rad(angle)\n",
        "  XRot = X * np.cos(oriRad) + Y * np.sin(oriRad)\n",
        "\n",
        "  grating = np.sin(XRot*frequency)\n",
        "\n",
        "  # Normalize to [0, 1] and convert to 8-bit grayscale\n",
        "  gratingNorm = ((grating + 1) / 2 * 255).astype(np.uint8)\n",
        "\n",
        "  return Image.fromarray(gratingNorm)\n"
      ],
      "metadata": {
        "id": "74dqMiukEbp7"
      },
      "execution_count": 45,
      "outputs": []
    },
    {
      "cell_type": "markdown",
      "source": [
        "**Generating Labels and Creating a Balanced Dataset**\n",
        "\n",
        "The goal is to create a dataset where each image is labeled based on the orientation of the grating (clockwise or counterclockwise). Additionally, we ensure the dataset is balanced, meaning it has an equal number of clockwise and counterclockwise images."
      ],
      "metadata": {
        "id": "c--6JPUQgKd4"
      }
    },
    {
      "cell_type": "code",
      "source": [
        "# Define the number of images and the range of angles\n",
        "numImage = 1000\n",
        "angleRange = (-30, 30)  # Angles will vary between -30 and 30 degrees"
      ],
      "metadata": {
        "colab": {
          "base_uri": "https://localhost:8080/"
        },
        "id": "M7fBdD9tgAUv",
        "outputId": "3b9c250c-4f1f-428e-9422-3a19cfb71042"
      },
      "execution_count": 53,
      "outputs": [
        {
          "output_type": "execute_result",
          "data": {
            "text/plain": [
              "(-30, 30)"
            ]
          },
          "metadata": {},
          "execution_count": 53
        }
      ]
    },
    {
      "cell_type": "code",
      "source": [
        "# Paths to save the images\n",
        "baseDir = '/content'\n",
        "clockwiseDir = os.path.join(baseDir, 'clockwise')\n",
        "counterClockwiseDir = os.path.join(baseDir, 'counterclockwise')\n",
        "\n",
        "# Create directories if they do not exist\n",
        "os.makedirs(clockwiseDir, exist_ok=True)\n",
        "os.makedirs(counterClockwiseDir, exist_ok=True)\n",
        "\n",
        "\n",
        "def generate_dataset(imageNumber,angleRange):\n",
        "  \"\"\"\n",
        "  Generates a dataset of sin grating withing a range of orientations\n",
        "\n",
        "  Parameters:\n",
        "  -imageNumber(integer): number of images\n",
        "  -angleRange(tuble): minimum and maximum of the orientation range\n",
        "\n",
        "  Return:\n",
        "\n",
        "\n",
        "  \"\"\"\n",
        "\n",
        "  for image_i in range(imageNumber):\n",
        "\n",
        "    # generating grating with random orientation\n",
        "    clockWise = np.random.uniform(1,angleRange[1])\n",
        "    counterClockWise = np.random.uniform(angleRange[0],-1)\n",
        "\n",
        "    image = generate_grating(clockWise)\n",
        "    image.save(os.path.join(clockwiseDir,f'clockwise_{image_i}.png'))\n",
        "\n",
        "    image = generate_grating(counterClockWise)\n",
        "    image.save(os.path.join(counterClockwiseDir,f'counterclockwise_{image_i}.png'))\n",
        "\n",
        "\n",
        "\n",
        "generate_dataset(10,(-10,10))"
      ],
      "metadata": {
        "id": "F9A4PcQtgYqK"
      },
      "execution_count": 56,
      "outputs": []
    },
    {
      "cell_type": "code",
      "source": [
        "pl.imshow(clockwise_0.png)\n",
        "\n"
      ],
      "metadata": {
        "id": "tNqW99Gqoxi-"
      },
      "execution_count": null,
      "outputs": []
    }
  ]
}