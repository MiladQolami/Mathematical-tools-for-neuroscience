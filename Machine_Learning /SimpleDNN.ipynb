{
  "nbformat": 4,
  "nbformat_minor": 0,
  "metadata": {
    "colab": {
      "provenance": [],
      "gpuType": "T4",
      "authorship_tag": "ABX9TyN64OYcq5NQtDHIBkr7ZnSa",
      "include_colab_link": true
    },
    "kernelspec": {
      "name": "python3",
      "display_name": "Python 3"
    },
    "language_info": {
      "name": "python"
    },
    "accelerator": "GPU"
  },
  "cells": [
    {
      "cell_type": "markdown",
      "metadata": {
        "id": "view-in-github",
        "colab_type": "text"
      },
      "source": [
        "<a href=\"https://colab.research.google.com/github/MiladQolami/Mathematical-tools-for-neuroscience/blob/main/Machine_Learning%20/SimpleDNN.ipynb\" target=\"_parent\"><img src=\"https://colab.research.google.com/assets/colab-badge.svg\" alt=\"Open In Colab\"/></a>"
      ]
    },
    {
      "cell_type": "markdown",
      "source": [
        "## Intorduction\n",
        "In this notebook we build a Deep Neural Network (DNN) for a discrimination task. The task is to discriminate whether a grating bar is oriented clockwise or counterclockwise relative to vertical meridian.\n",
        "\n"
      ],
      "metadata": {
        "id": "Fbns1sig_lRx"
      }
    },
    {
      "cell_type": "markdown",
      "source": [
        "## Dataset Preparation\n",
        "**Data Generation**\n",
        "\n",
        "Since this is a specialized dataset, we need to generate synthetic images. Here we want to generate patterns of grating oriented in different direction\n"
      ],
      "metadata": {
        "id": "4Q5N3KRZCtlm"
      }
    },
    {
      "cell_type": "code",
      "source": [
        "import os\n",
        "import torch\n",
        "import torch.nn as nn\n",
        "import torch.nn.functional as F\n",
        "from torch.utils.data import Dataset, DataLoader, SubsetRandomSampler, random_split\n",
        "from torchvision import transforms\n",
        "import numpy as np\n",
        "import matplotlib.pyplot as plt\n",
        "from PIL import Image"
      ],
      "metadata": {
        "id": "p017WxJUABPb"
      },
      "execution_count": 234,
      "outputs": []
    },
    {
      "cell_type": "code",
      "source": [
        "def generate_grating(angle,size=(28,28),frequency=5,noise_level=0.1):\n",
        "\n",
        "  \"\"\"\n",
        "  Genetates sinusoidal grating in image format (PIL)\n",
        "\n",
        "  Parameters:\n",
        "      - angle (float): The angle (in degrees) at which the grating pattern is rotated relative to the vertical axis.\n",
        "                      Positive values rotate the pattern counterclockwise, and negative values rotate it clockwise.\n",
        "      - size (tuple of ints, optional): The size (width, height) of the output image in pixels.\n",
        "                      Defaults to (28, 28), which is a common size for small images like those used in image recognition tasks.\n",
        "      - frequency (float, optional): The frequency of the grating pattern,\n",
        "                      Defaults to 5.\n",
        "\n",
        "      Returns:\n",
        "      - PIL.Image.Image: A PIL Image object containing the generated grating pattern in grayscale (8-bit).\n",
        "                        The pixel values range from 0 (black) to 255 (white).\n",
        "  \"\"\"\n",
        "\n",
        "\n",
        "  # Create a coordinate grid\n",
        "  x = np.linspace(-np.pi,np.pi,size[0])\n",
        "  y = np.linspace(-np.pi,np.pi,size[1])\n",
        "  X,Y = np.meshgrid(x,y)\n",
        "\n",
        "  # Rotate the grid by the given angle\n",
        "  oriRad = np.deg2rad(angle)\n",
        "  XRot = X * np.cos(oriRad) + Y * np.sin(oriRad)\n",
        "\n",
        "  grating = np.sin(XRot*frequency)\n",
        "\n",
        "  # Normalize to [0, 1] and convert to 8-bit grayscale\n",
        "  gratingNorm = ((grating + 1) / 2 * 255).astype(np.uint8)\n",
        "\n",
        "      # Add Gaussian noise\n",
        "  noise = np.random.normal(0, noise_level, grating.shape)\n",
        "  grating_noisy = grating + noise\n",
        "  grating_noisy = np.clip(grating_noisy, -1, 1)  # Ensure values are within valid range\n",
        "\n",
        "    # Normalize to [0, 1] and convert to 8-bit grayscale\n",
        "  gratingNorm = ((grating_noisy + 1) / 2 * 255).astype(np.uint8)\n",
        "\n",
        "  return Image.fromarray(gratingNorm)\n"
      ],
      "metadata": {
        "id": "74dqMiukEbp7"
      },
      "execution_count": 235,
      "outputs": []
    },
    {
      "cell_type": "code",
      "source": [
        "# Define the number of images and the range of angles\n",
        "numImage = 1000\n",
        "angleRange = (-5, 5)  # Angles will vary between -30 and 30 degrees"
      ],
      "metadata": {
        "id": "M7fBdD9tgAUv"
      },
      "execution_count": 236,
      "outputs": []
    },
    {
      "cell_type": "code",
      "source": [
        "\n",
        "# Paths to save the images\n",
        "baseDir = '/content'\n",
        "clockwiseDir = os.path.join(baseDir, 'clockwise')\n",
        "counterClockwiseDir = os.path.join(baseDir, 'counterclockwise')\n",
        "# Create directories if they do not exist\n",
        "os.makedirs(clockwiseDir, exist_ok=True)\n",
        "os.makedirs(counterClockwiseDir, exist_ok=True)\n",
        "\n",
        "\n",
        "def generate_dataset(imageNumber,angleRange):\n",
        "  \"\"\"\n",
        "  Generates a dataset of sin grating withing a range of orientations\n",
        "\n",
        "  Parameters:\n",
        "  -imageNumber(integer): number of images\n",
        "  -angleRange(tuble): minimum and maximum of the orientation range\n",
        "\n",
        "  Return:\n",
        "\n",
        "\n",
        "  \"\"\"\n",
        "\n",
        "  for image_i in range(imageNumber):\n",
        "\n",
        "    # generating grating with random orientation\n",
        "    clockWise = np.random.uniform(.1,angleRange[1])\n",
        "    counterClockWise = np.random.uniform(angleRange[0],-.1)\n",
        "\n",
        "    image = generate_grating(clockWise)\n",
        "    image.save(os.path.join(clockwiseDir,f'clockwise_{image_i}.png'))\n",
        "\n",
        "    image = generate_grating(counterClockWise)\n",
        "    image.save(os.path.join(counterClockwiseDir,f'counterclockwise_{image_i}.png'))\n",
        "\n",
        "\n",
        "\n",
        "generate_dataset(numImage,angleRange)\n"
      ],
      "metadata": {
        "id": "8POtPvABDur4"
      },
      "execution_count": 237,
      "outputs": []
    },
    {
      "cell_type": "markdown",
      "source": [
        "**Generating Labels and Creating a Balanced Dataset**\n",
        "\n",
        "The goal is to create a dataset where each image is labeled based on the orientation of the grating (clockwise or counterclockwise). Additionally, we ensure the dataset is balanced, meaning it has an equal number of clockwise and counterclockwise images."
      ],
      "metadata": {
        "id": "c--6JPUQgKd4"
      }
    },
    {
      "cell_type": "code",
      "source": [
        "# Collect image paths and labels\n",
        "data_dir = '/content'\n",
        "image_paths = []\n",
        "labels = []\n",
        "\n",
        "# Loop through the directories for each class\n",
        "classes = ['clockwise', 'counterclockwise']\n",
        "for label, class_name in enumerate(classes):\n",
        "    class_dir = os.path.join(data_dir, class_name)\n",
        "    for img_name in os.listdir(class_dir):\n",
        "        image_paths.append(os.path.join(class_dir, img_name))\n",
        "        labels.append(label)\n",
        "\n",
        "# Create a list of indices and shuffle them\n",
        "indices = list(range(len(labels)))\n",
        "np.random.shuffle(indices)\n",
        "\n",
        "# Split indices\n",
        "train_size = int(0.7 * len(indices))\n",
        "train_indices = indices[:train_size]\n",
        "val_indices = indices[train_size:]\n",
        "\n",
        "# Get subsets of image_paths and labels\n",
        "train_image_paths = [image_paths[i] for i in train_indices]\n",
        "train_labels = [labels[i] for i in train_indices]\n",
        "\n",
        "val_image_paths = [image_paths[i] for i in val_indices]\n",
        "val_labels = [labels[i] for i in val_indices]\n",
        "\n",
        "# Define the Dataset class\n",
        "class GratingDataset(Dataset):\n",
        "    def __init__(self, image_paths, labels, transform=None):\n",
        "        self.image_paths = image_paths\n",
        "        self.labels = labels\n",
        "        self.transform = transform\n",
        "\n",
        "    def __len__(self):\n",
        "        return len(self.labels)\n",
        "\n",
        "    def __getitem__(self, idx):\n",
        "        # Load image and apply transformations\n",
        "        image = Image.open(self.image_paths[idx]).convert('L')\n",
        "        if self.transform:\n",
        "            image = self.transform(image)\n",
        "        label = self.labels[idx]\n",
        "        return image, label\n",
        "\n",
        "# Define transformations\n",
        "train_transform = transforms.Compose([\n",
        "    transforms.RandomAutocontrast(),\n",
        "    transforms.RandomResizedCrop(size=(28, 28), scale=(0.8, 1.0)),\n",
        "    transforms.RandomApply([transforms.GaussianBlur(kernel_size=7)], p=0.9),\n",
        "    transforms.ToTensor()\n",
        "])\n",
        "\n",
        "val_transform = transforms.Compose([\n",
        "    transforms.ToTensor()\n",
        "])\n",
        "\n",
        "# Create datasets with appropriate transforms\n",
        "train_dataset = GratingDataset(train_image_paths, train_labels, transform=train_transform)\n",
        "val_dataset = GratingDataset(val_image_paths, val_labels, transform=val_transform)\n",
        "\n",
        "# Create DataLoaders\n",
        "batch_size = 32\n",
        "train_loader = DataLoader(train_dataset, batch_size=batch_size, shuffle=True)\n",
        "val_loader = DataLoader(val_dataset, batch_size=batch_size, shuffle=False)"
      ],
      "metadata": {
        "id": "vK0ia0n0BI0O"
      },
      "execution_count": 238,
      "outputs": []
    },
    {
      "cell_type": "code",
      "source": [
        "\n",
        "# Function to display images from the dataset\n",
        "def display_sample_images(dataset, title):\n",
        "    images, labels = next(iter(DataLoader(dataset, batch_size=6)))\n",
        "    fig, axes = plt.subplots(1, 6, figsize=(15, 3))\n",
        "    for i in range(6):\n",
        "        ax = axes[i]\n",
        "        ax.imshow(images[i].squeeze(), cmap='gray')\n",
        "        ax.set_title(f'Label: {labels[i]}')\n",
        "        ax.axis('off')\n",
        "    plt.suptitle(title)\n",
        "    plt.show()\n",
        "\n",
        "# Display training images\n",
        "display_sample_images(train_dataset, 'Training Samples')\n",
        "\n",
        "# Display validation images\n",
        "display_sample_images(val_dataset, 'Validation Samples')\n"
      ],
      "metadata": {
        "colab": {
          "base_uri": "https://localhost:8080/",
          "height": 513
        },
        "id": "Pmg8Pa_zGhMq",
        "outputId": "b307d94b-d95c-4c7e-ebc1-654321307c59"
      },
      "execution_count": 239,
      "outputs": [
        {
          "output_type": "display_data",
          "data": {
            "text/plain": [
              "<Figure size 1500x300 with 6 Axes>"
            ],
            "image/png": "[encoded data removed]"
          },
          "metadata": {}
        },
        {
          "output_type": "display_data",
          "data": {
            "text/plain": [
              "<Figure size 1500x300 with 6 Axes>"
            ],
            "image/png": "[encoded data removed]"
          },
          "metadata": {}
        }
      ]
    },
    {
      "cell_type": "markdown",
      "source": [
        "The next step is to build and define the neural network model that will classify the grating patterns as oriented either clockwise or counterclockwise. This typically involves defining the model architecture, choosing the Loss Function and Optimizer,\n",
        "writing the training loop and evaluating the model."
      ],
      "metadata": {
        "id": "O3VJzvY5XQdR"
      }
    },
    {
      "cell_type": "markdown",
      "source": [
        "### How the images look like after transformation?"
      ],
      "metadata": {
        "id": "klV3Hv-3zPNx"
      }
    },
    {
      "cell_type": "markdown",
      "source": [
        "Here we choose a fully connected deep neuroal network, although it is not an ideal model atchitecture for image classification.\n"
      ],
      "metadata": {
        "id": "fBHR6u_7YLjG"
      }
    },
    {
      "cell_type": "code",
      "source": [
        "\n",
        "class GratingDNN(nn.Module):\n",
        "    def __init__(self, input_size=28*28, hidden_size=5, num_classes=2):\n",
        "        super(GratingDNN, self).__init__()\n",
        "        self.fc1 = nn.Linear(input_size, hidden_size)  # Input layer to hidden layer\n",
        "        self.fc2 = nn.Linear(hidden_size, hidden_size) # Hidden layer to hidden layer\n",
        "        self.fc3 = nn.Linear(hidden_size, num_classes) # Hidden layer to output layer\n",
        "\n",
        "    def forward(self, x):\n",
        "        x = x.view(-1, 28*28)             # Flatten the 28x28 image to a 784 vector\n",
        "        x = F.relu(self.fc1(x))            # First hidden layer with ReLU activation\n",
        "        x = F.relu(self.fc2(x))            # Second hidden layer with ReLU activation\n",
        "        x = self.fc3(x)                    # Output layer (no activation, will use CrossEntropyLoss)\n",
        "        return x\n"
      ],
      "metadata": {
        "id": "FenoXRHAYxDQ"
      },
      "execution_count": 240,
      "outputs": []
    },
    {
      "cell_type": "code",
      "source": [
        "class GratingCNN(nn.Module):\n",
        "    def __init__(self):\n",
        "        super(GratingCNN, self).__init__()\n",
        "        self.conv_layer = nn.Sequential(\n",
        "            nn.Conv2d(1, 16, kernel_size=3, padding=1),  # Convolutional layer\n",
        "            nn.BatchNorm2d(16),\n",
        "            nn.ReLU(),\n",
        "            nn.MaxPool2d(2),  # Downsampling\n",
        "            nn.Conv2d(16, 32, kernel_size=3, padding=1),\n",
        "            nn.BatchNorm2d(32),\n",
        "            nn.ReLU(),\n",
        "            nn.MaxPool2d(2)\n",
        "        )\n",
        "        self.fc_layer = nn.Sequential(\n",
        "            nn.Linear(32 * 7 * 7, 64),  # Adjust the size according to the image size\n",
        "            nn.ReLU(),\n",
        "            nn.Linear(64, 2)  # Output layer\n",
        "        )\n",
        "\n",
        "    def forward(self, x):\n",
        "        x = self.conv_layer(x)\n",
        "        x = x.view(x.size(0), -1)  # Flatten\n",
        "        x = self.fc_layer(x)\n",
        "        return x\n",
        "\n",
        "model = GratingCNN()\n"
      ],
      "metadata": {
        "id": "gHVXoC1HIOSC"
      },
      "execution_count": 241,
      "outputs": []
    },
    {
      "cell_type": "code",
      "source": [
        "model = GratingDNN()\n",
        "loss_function = nn.CrossEntropyLoss()              # For classification tasks\n",
        "optimizer = torch.optim.Adam(model.parameters(), lr=0.001)  # Optimizer\n"
      ],
      "metadata": {
        "id": "roXg0OlGZP4C"
      },
      "execution_count": 242,
      "outputs": []
    },
    {
      "cell_type": "code",
      "source": [
        "num_epochs = 10 # Number of epochs\n",
        "\n",
        "for epoch in range(num_epochs):\n",
        "    model.train()                              # Set model to training mode\n",
        "    running_loss = 0.0\n",
        "\n",
        "    for images, labels in train_loader:\n",
        "        optimizer.zero_grad()                  # Zero gradients\n",
        "        outputs = model(images)                # Forward pass\n",
        "        loss = loss_function(outputs, labels)      # Compute loss\n",
        "        loss.backward()                        # Backward pass\n",
        "        optimizer.step()                       # Update weights\n",
        "\n",
        "        running_loss += loss.item()\n",
        "\n",
        "    # Print average loss per epoch\n",
        "    avg_loss = running_loss / len(train_loader)\n",
        "    print(f'Epoch [{epoch+1}/{num_epochs}], Loss: {avg_loss:.4f}')\n",
        "\n",
        "    # Validation phase\n",
        "    model.eval()                               # Set model to evaluation mode\n",
        "    correct = 0\n",
        "    total = 0\n",
        "\n",
        "    with torch.no_grad():\n",
        "        for images, labels in val_loader:\n",
        "            outputs = model(images)\n",
        "            _, predicted = torch.max(outputs, 1)\n",
        "            total += labels.size(0)\n",
        "            correct += (predicted == labels).sum().item()\n",
        "    accuracy = 100 * correct / total\n",
        "    print(f'Validation Accuracy: {accuracy:.2f}%')\n"
      ],
      "metadata": {
        "colab": {
          "base_uri": "https://localhost:8080/"
        },
        "id": "vgu7vYr7ZFtT",
        "outputId": "44021a95-eeb9-4659-ca33-2c745c878067"
      },
      "execution_count": 243,
      "outputs": [
        {
          "output_type": "stream",
          "name": "stdout",
          "text": [
            "Epoch [1/10], Loss: 0.6765\n",
            "Validation Accuracy: 92.83%\n",
            "Epoch [2/10], Loss: 0.6154\n",
            "Validation Accuracy: 89.00%\n",
            "Epoch [3/10], Loss: 0.5566\n",
            "Validation Accuracy: 95.00%\n",
            "Epoch [4/10], Loss: 0.4871\n",
            "Validation Accuracy: 93.00%\n",
            "Epoch [5/10], Loss: 0.4535\n",
            "Validation Accuracy: 96.33%\n",
            "Epoch [6/10], Loss: 0.4316\n",
            "Validation Accuracy: 99.67%\n",
            "Epoch [7/10], Loss: 0.4009\n",
            "Validation Accuracy: 99.50%\n",
            "Epoch [8/10], Loss: 0.3712\n",
            "Validation Accuracy: 99.67%\n",
            "Epoch [9/10], Loss: 0.3838\n",
            "Validation Accuracy: 99.83%\n",
            "Epoch [10/10], Loss: 0.3509\n",
            "Validation Accuracy: 99.83%\n"
          ]
        }
      ]
    }
  ]
}