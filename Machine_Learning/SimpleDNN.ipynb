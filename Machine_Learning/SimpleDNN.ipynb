{
  "nbformat": 4,
  "nbformat_minor": 0,
  "metadata": {
    "colab": {
      "provenance": [],
      "authorship_tag": "ABX9TyMV6HdGEfKJx7ypCza2Ak1b",
      "include_colab_link": true
    },
    "kernelspec": {
      "name": "python3",
      "display_name": "Python 3"
    },
    "language_info": {
      "name": "python"
    }
  },
  "cells": [
    {
      "cell_type": "markdown",
      "metadata": {
        "id": "view-in-github",
        "colab_type": "text"
      },
      "source": [
        "<a href=\"https://colab.research.google.com/github/MiladQolami/Mathematical-tools-for-neuroscience/blob/main/Machine_Learning/SimpleDNN.ipynb\" target=\"_parent\"><img src=\"https://colab.research.google.com/assets/colab-badge.svg\" alt=\"Open In Colab\"/></a>"
      ]
    },
    {
      "cell_type": "markdown",
      "source": [
        "## Intorduction\n",
        "In this notebook we build a Deep Neural Network (DNN) for a discrimination task. The task is to discriminate whether a grating bar is oriented clockwise or counterclockwise relative to vertical meridian.\n",
        "\n"
      ],
      "metadata": {
        "id": "Fbns1sig_lRx"
      }
    },
    {
      "cell_type": "markdown",
      "source": [
        "## Dataset Preparation\n",
        "**Data Generation**\n",
        "\n",
        "Since this is a specialized dataset, we need to generate synthetic images. Here we want to generate patterns of grating oriented in different direction\n"
      ],
      "metadata": {
        "id": "4Q5N3KRZCtlm"
      }
    },
    {
      "cell_type": "code",
      "source": [
        "import os\n",
        "import numpy as np\n",
        "import matplotlib.pyplot as plt\n",
        "from PIL import Image"
      ],
      "metadata": {
        "id": "p017WxJUABPb"
      },
      "execution_count": 47,
      "outputs": []
    },
    {
      "cell_type": "code",
      "source": [
        "def generate_grating(angle,size=(28,28),frequency=5):\n",
        "\n",
        "  \"\"\"\n",
        "  Genetates sinusoidal grating in image format (PIL)\n",
        "\n",
        "  Parameters:\n",
        "      - angle (float): The angle (in degrees) at which the grating pattern is rotated relative to the vertical axis.\n",
        "                      Positive values rotate the pattern counterclockwise, and negative values rotate it clockwise.\n",
        "      - size (tuple of ints, optional): The size (width, height) of the output image in pixels.\n",
        "                      Defaults to (28, 28), which is a common size for small images like those used in image recognition tasks.\n",
        "      - frequency (float, optional): The frequency of the grating pattern, determining how many cycles (lines) appear\n",
        "                      across the width of the image. Higher values create more lines and a denser pattern.\n",
        "                      Defaults to 5.\n",
        "\n",
        "      Returns:\n",
        "      - PIL.Image.Image: A PIL Image object containing the generated grating pattern in grayscale (8-bit).\n",
        "                        The pixel values range from 0 (black) to 255 (white).\n",
        "  \"\"\"\n",
        "\n",
        "\n",
        "  # Create a coordinate grid\n",
        "  x = np.linspace(-np.pi,np.pi,size[0])\n",
        "  y = np.linspace(-np.pi,np.pi,size[1])\n",
        "  X,Y = np.meshgrid(x,y)\n",
        "\n",
        "  # Rotate the grid by the given angle\n",
        "  oriRad = np.deg2rad(angle)\n",
        "  XRot = X * np.cos(oriRad) + Y * np.sin(oriRad)\n",
        "\n",
        "  grating = np.sin(XRot*frequency)\n",
        "\n",
        "  # Normalize to [0, 1] and convert to 8-bit grayscale\n",
        "  gratingNorm = ((grating + 1) / 2 * 255).astype(np.uint8)\n",
        "\n",
        "  return Image.fromarray(gratingNorm)\n"
      ],
      "metadata": {
        "id": "74dqMiukEbp7"
      },
      "execution_count": 45,
      "outputs": []
    },
    {
      "cell_type": "markdown",
      "source": [
        "**Generating Labels and Creating a Balanced Dataset**\n",
        "\n",
        "The goal is to create a dataset where each image is labeled based on the orientation of the grating (clockwise or counterclockwise). Additionally, we ensure the dataset is balanced, meaning it has an equal number of clockwise and counterclockwise images."
      ],
      "metadata": {
        "id": "c--6JPUQgKd4"
      }
    },
    {
      "cell_type": "code",
      "source": [
        "# Define the number of images and the range of angles\n",
        "numImage = 1000\n",
        "angleRange = (-30, 30)  # Angles will vary between -30 and 30 degrees"
      ],
      "metadata": {
        "id": "M7fBdD9tgAUv"
      },
      "execution_count": null,
      "outputs": []
    },
    {
      "cell_type": "code",
      "source": [
        "# Paths to save the images\n",
        "baseDir = 'data'\n",
        "clockwiseDir = os.path.join(baseDir, 'clockwise')\n",
        "counterClockwiseDir = os.path.join(baseDir, 'counterclockwise')\n",
        "\n",
        "# Create directories if they do not exist\n",
        "os.makedirs(clockwiseDir, exist_ok=True)\n",
        "os.makedirs(counterClockwiseDir, exist_ok=True)"
      ],
      "metadata": {
        "id": "F9A4PcQtgYqK"
      },
      "execution_count": null,
      "outputs": []
    }
  ]
}