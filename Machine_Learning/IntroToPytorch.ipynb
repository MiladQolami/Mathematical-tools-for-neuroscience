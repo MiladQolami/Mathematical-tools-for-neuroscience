{
  "nbformat": 4,
  "nbformat_minor": 0,
  "metadata": {
    "colab": {
      "provenance": [],
      "gpuType": "T4",
      "authorship_tag": "ABX9TyMEsN8r+IStPtolHnudqY4m",
      "include_colab_link": true
    },
    "kernelspec": {
      "name": "python3",
      "display_name": "Python 3"
    },
    "language_info": {
      "name": "python"
    }
  },
  "cells": [
    {
      "cell_type": "markdown",
      "metadata": {
        "id": "view-in-github",
        "colab_type": "text"
      },
      "source": [
        "<a href=\"https://colab.research.google.com/github/MiladQolami/Mathematical-tools-for-neuroscience/blob/main/Machine_Learning/IntroToPytorch.ipynb\" target=\"_parent\"><img src=\"https://colab.research.google.com/assets/colab-badge.svg\" alt=\"Open In Colab\"/></a>"
      ]
    },
    {
      "cell_type": "markdown",
      "source": [
        "# Introduction\n",
        "\n",
        "PyTorch is an open-source machine learning library for Python, primarily developed by Facebook's AI Research lab (FAIR).\n",
        "\n",
        "Several gient tech companies like Meta and Microsoft use pytorch to bring machine learning to their products. Pytorch is #1 library for deep learning among developers.\n",
        "\n"
      ],
      "metadata": {
        "id": "aIQqkatfpN1R"
      }
    },
    {
      "cell_type": "code",
      "source": [
        "import torch\n",
        "import matplotlib.pyplot as plt\n"
      ],
      "metadata": {
        "id": "O4h-EQM_QeDx"
      },
      "execution_count": 4,
      "outputs": []
    },
    {
      "cell_type": "markdown",
      "source": [
        "# Introduction to Tensors\n",
        "\n",
        "Tensors are fundemental data structrues in pytorch. We store infromation of input and output data in tensors. Tensors are similar to Numpy ndarrays but with additional features. So tensors can be considered as multidimensional matrices.\n",
        "\n",
        "Tensors can have any number of dimensions and different lengths along each dimension. For example a scalar is a tensor of rank 0, a vector is a tensor of rank 1 and a matrix is a tensor with rank 2."
      ],
      "metadata": {
        "id": "IK4-InzLQs3M"
      }
    },
    {
      "cell_type": "markdown",
      "source": [
        "\n",
        "\n",
        "<center>\n",
        "<img src = 'https://raw.githubusercontent.com/MiladQolami/Mathematical-tools-for-neuroscience/main/Machine_Learning/tensor.jpg'>\n",
        "<center>"
      ],
      "metadata": {
        "id": "QzVaJdwfTgaJ"
      }
    },
    {
      "cell_type": "markdown",
      "source": [
        "## Creating tensors\n",
        "\n",
        "we can store different types of numerical data in tensors, like integers, floating numbers and complex numbers.\n",
        "\n",
        "Lect's create some tensors."
      ],
      "metadata": {
        "id": "CdyhCVLqXBqP"
      }
    },
    {
      "cell_type": "code",
      "source": [
        "t0 = torch.tensor(4)  # tensor with rank or dimension 0, ie a scalar\n",
        "print(t0)\n",
        "t0.ndim   # This is tensor with 0 dimension"
      ],
      "metadata": {
        "id": "vqpP3O7dY5sa",
        "outputId": "9c8d7deb-ebc9-4cb6-f3a2-cc0e0d46a632",
        "colab": {
          "base_uri": "https://localhost:8080/"
        }
      },
      "execution_count": 24,
      "outputs": [
        {
          "output_type": "stream",
          "name": "stdout",
          "text": [
            "tensor(4)\n"
          ]
        },
        {
          "output_type": "execute_result",
          "data": {
            "text/plain": [
              "0"
            ]
          },
          "metadata": {},
          "execution_count": 24
        }
      ]
    },
    {
      "cell_type": "code",
      "source": [
        "t1 = torch.tensor([1.0,2.3,3.6])  # A 1D tensor, a vecrot\n",
        "print(t1)\n",
        "t1.ndim"
      ],
      "metadata": {
        "id": "t_qQ4bLUWOkg",
        "outputId": "6be381a0-722d-4560-8edd-18de6ad38865",
        "colab": {
          "base_uri": "https://localhost:8080/"
        }
      },
      "execution_count": 3,
      "outputs": [
        {
          "output_type": "stream",
          "name": "stdout",
          "text": [
            "tensor([1.0000, 2.3000, 3.6000])\n"
          ]
        },
        {
          "output_type": "execute_result",
          "data": {
            "text/plain": [
              "1"
            ]
          },
          "metadata": {},
          "execution_count": 3
        }
      ]
    },
    {
      "cell_type": "code",
      "source": [
        "t2 = torch.tensor([[1,2,3],\n",
        "                   [4,5,6]])   # A 2D tensor or a matrix\n",
        "print(t2)\n",
        "t2.ndim"
      ],
      "metadata": {
        "id": "rIJ0HboFYVJ7",
        "outputId": "29cf757f-8a04-42ac-a827-662418603036",
        "colab": {
          "base_uri": "https://localhost:8080/"
        }
      },
      "execution_count": 15,
      "outputs": [
        {
          "output_type": "stream",
          "name": "stdout",
          "text": [
            "tensor([[1, 2, 3],\n",
            "        [4, 5, 6]])\n"
          ]
        },
        {
          "output_type": "execute_result",
          "data": {
            "text/plain": [
              "2"
            ]
          },
          "metadata": {},
          "execution_count": 15
        }
      ]
    },
    {
      "cell_type": "code",
      "source": [
        "t2.dtype # t2 is tensor containg integers"
      ],
      "metadata": {
        "id": "pM5GfnBYoVPU",
        "outputId": "64b9bb8a-7a6f-4348-b183-09163b1c5776",
        "colab": {
          "base_uri": "https://localhost:8080/"
        }
      },
      "execution_count": 16,
      "outputs": [
        {
          "output_type": "execute_result",
          "data": {
            "text/plain": [
              "torch.int64"
            ]
          },
          "metadata": {},
          "execution_count": 16
        }
      ]
    },
    {
      "cell_type": "markdown",
      "source": [
        "We can get number of row and columns by `.shape` method"
      ],
      "metadata": {
        "id": "pvCsLJSOdOSt"
      }
    },
    {
      "cell_type": "code",
      "source": [
        "t2.shape"
      ],
      "metadata": {
        "id": "trPhlEPwcJ7H",
        "outputId": "89ef0de6-1ea7-4249-e8fb-26c95a5fa352",
        "colab": {
          "base_uri": "https://localhost:8080/"
        }
      },
      "execution_count": 10,
      "outputs": [
        {
          "output_type": "execute_result",
          "data": {
            "text/plain": [
              "torch.Size([2, 3])"
            ]
          },
          "metadata": {},
          "execution_count": 10
        }
      ]
    },
    {
      "cell_type": "markdown",
      "source": [
        "Similar to Numpy arrays we can create tensors containing zeros, ones, random values, whithin a range, ..."
      ],
      "metadata": {
        "id": "gARyFjKZZ2zH"
      }
    },
    {
      "cell_type": "code",
      "source": [
        "zero_tensor = torch.zeros(2,5)  # A 2D tensor with zeros as elements and shape (2,5)\n",
        "print(zero_tensor)"
      ],
      "metadata": {
        "id": "kj2ZeF_hZ1AL",
        "outputId": "8d6b6d63-5a91-4433-8f6e-eaf41309405a",
        "colab": {
          "base_uri": "https://localhost:8080/"
        }
      },
      "execution_count": 31,
      "outputs": [
        {
          "output_type": "stream",
          "name": "stdout",
          "text": [
            "tensor([[0., 0., 0., 0., 0.],\n",
            "        [0., 0., 0., 0., 0.]])\n",
            "tensor([0, 2, 4, 6, 8])\n"
          ]
        }
      ]
    },
    {
      "cell_type": "code",
      "source": [
        "range_tensor = torch.arange(0,10,2)\n",
        "print(range_tensor)"
      ],
      "metadata": {
        "id": "--Hbx41Aauwc",
        "outputId": "dda99e5e-6ef8-4442-d30d-dd6e22e1bc95",
        "colab": {
          "base_uri": "https://localhost:8080/"
        }
      },
      "execution_count": 32,
      "outputs": [
        {
          "output_type": "stream",
          "name": "stdout",
          "text": [
            "tensor([0, 2, 4, 6, 8])\n"
          ]
        }
      ]
    },
    {
      "cell_type": "markdown",
      "source": [
        "Let's go to higher dimensions\n"
      ],
      "metadata": {
        "id": "1zWmyN88dho9"
      }
    },
    {
      "cell_type": "code",
      "source": [
        "t3 = torch.tensor([[[1,3,3],      # A three dimensional tensor\n",
        "                    [2,5,3],\n",
        "                    [6,2,3]]])\n",
        "print(t3)\n",
        "t3.ndim"
      ],
      "metadata": {
        "id": "iympzTgndnMT",
        "outputId": "59cf4a5f-6a96-4c3e-f80a-258a1f70df06",
        "colab": {
          "base_uri": "https://localhost:8080/"
        }
      },
      "execution_count": 17,
      "outputs": [
        {
          "output_type": "stream",
          "name": "stdout",
          "text": [
            "tensor([[[1, 3, 3],\n",
            "         [2, 5, 3],\n",
            "         [6, 2, 3]]])\n"
          ]
        },
        {
          "output_type": "execute_result",
          "data": {
            "text/plain": [
              "3"
            ]
          },
          "metadata": {},
          "execution_count": 17
        }
      ]
    },
    {
      "cell_type": "code",
      "source": [
        "t3.shape"
      ],
      "metadata": {
        "id": "f390tjCjeh9s",
        "outputId": "2a64317a-b7ce-4bfb-ce7b-6e3be888f5c4",
        "colab": {
          "base_uri": "https://localhost:8080/"
        }
      },
      "execution_count": 18,
      "outputs": [
        {
          "output_type": "execute_result",
          "data": {
            "text/plain": [
              "torch.Size([1, 3, 3])"
            ]
          },
          "metadata": {},
          "execution_count": 18
        }
      ]
    },
    {
      "cell_type": "markdown",
      "source": [
        "Let's create a tensor with shape (2,3,2)"
      ],
      "metadata": {
        "id": "B-Fs2qI-gdML"
      }
    },
    {
      "cell_type": "code",
      "source": [
        "t3_2 = torch.tensor([[[1,3],\n",
        "                      [3,5],\n",
        "                      [6,4]],\n",
        "\n",
        "                     [[3,4],\n",
        "                      [1,3],\n",
        "                      [4,3]]])\n",
        "print(t3_2)"
      ],
      "metadata": {
        "id": "e5DaQW4egmlW",
        "outputId": "94aa68d0-ea93-4597-97a4-a4ce68fd62f6",
        "colab": {
          "base_uri": "https://localhost:8080/"
        }
      },
      "execution_count": 28,
      "outputs": [
        {
          "output_type": "stream",
          "name": "stdout",
          "text": [
            "tensor([[[1, 3],\n",
            "         [3, 5],\n",
            "         [6, 4]],\n",
            "\n",
            "        [[3, 4],\n",
            "         [1, 3],\n",
            "         [4, 3]]])\n"
          ]
        }
      ]
    },
    {
      "cell_type": "code",
      "source": [
        "t3_2.shape"
      ],
      "metadata": {
        "id": "c3v75_7LhbX9",
        "outputId": "2c71e38a-161b-4254-9f45-d5357c50c9b5",
        "colab": {
          "base_uri": "https://localhost:8080/"
        }
      },
      "execution_count": 29,
      "outputs": [
        {
          "output_type": "execute_result",
          "data": {
            "text/plain": [
              "torch.Size([2, 3, 2])"
            ]
          },
          "metadata": {},
          "execution_count": 29
        }
      ]
    },
    {
      "cell_type": "markdown",
      "source": [
        "How can we justify this?\n",
        "\n",
        "Inside the first bracket we have 2 'things' (seperated by commas) and that is the first dimension, inside the second bracket we have 3 thing and that is the second dimension and inside the third and the innermost bracket we have 2 things which is the third dimension"
      ],
      "metadata": {
        "id": "cE7KIr_chqKL"
      }
    }
  ]
}