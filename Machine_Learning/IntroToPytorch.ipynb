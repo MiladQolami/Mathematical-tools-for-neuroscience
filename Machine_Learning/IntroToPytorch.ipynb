{
  "nbformat": 4,
  "nbformat_minor": 0,
  "metadata": {
    "colab": {
      "provenance": [],
      "gpuType": "T4",
      "authorship_tag": "ABX9TyOfqa2OP33e6zOyNI68tkTP",
      "include_colab_link": true
    },
    "kernelspec": {
      "name": "python3",
      "display_name": "Python 3"
    },
    "language_info": {
      "name": "python"
    }
  },
  "cells": [
    {
      "cell_type": "markdown",
      "metadata": {
        "id": "view-in-github",
        "colab_type": "text"
      },
      "source": [
        "<a href=\"https://colab.research.google.com/github/MiladQolami/Mathematical-tools-for-neuroscience/blob/main/Machine_Learning/IntroToPytorch.ipynb\" target=\"_parent\"><img src=\"https://colab.research.google.com/assets/colab-badge.svg\" alt=\"Open In Colab\"/></a>"
      ]
    },
    {
      "cell_type": "markdown",
      "source": [
        "# Introduction\n",
        "\n",
        "PyTorch is an open-source machine learning library for Python, primarily developed by Facebook's AI Research lab (FAIR).\n",
        "\n",
        "Several giant tech companies like Meta and Microsoft use pytorch to bring machine learning to their products. Pytorch is #1 library for deep learning among developers. One of the main features of Pytorch is its advantages when it comes to using the power of GPUs.\n",
        "\n",
        "\n",
        "\n"
      ],
      "metadata": {
        "id": "aIQqkatfpN1R"
      }
    },
    {
      "cell_type": "code",
      "source": [
        "import torch\n",
        "import matplotlib.pyplot as plt\n",
        "import numpy as np\n"
      ],
      "metadata": {
        "id": "O4h-EQM_QeDx"
      },
      "execution_count": 1,
      "outputs": []
    },
    {
      "cell_type": "markdown",
      "source": [
        "# Introduction to Tensors\n",
        "\n",
        "Tensors are fundemental data structrues in pytorch. We store infromation of input and output data in tensors. Tensors are similar to Numpy ndarrays but with additional features. So tensors can be considered as multidimensional matrices.\n",
        "\n",
        "Tensors can have any number of dimensions and different lengths along each dimension. For example a scalar is a tensor of rank 0, a vector is a tensor of rank 1 and a matrix is a tensor with rank 2.\n",
        "\n"
      ],
      "metadata": {
        "id": "IK4-InzLQs3M"
      }
    },
    {
      "cell_type": "markdown",
      "source": [
        "\n",
        "\n",
        "<center>\n",
        "<img src = 'https://raw.githubusercontent.com/MiladQolami/Mathematical-tools-for-neuroscience/main/Machine_Learning/tensor.jpg'>\n",
        "<center>"
      ],
      "metadata": {
        "id": "QzVaJdwfTgaJ"
      }
    },
    {
      "cell_type": "markdown",
      "source": [
        "## Creating tensors\n",
        "\n",
        "we can store different types of numerical data in tensors, like integers, floating numbers and complex numbers.\n",
        "\n",
        "Lect's create some tensors."
      ],
      "metadata": {
        "id": "CdyhCVLqXBqP"
      }
    },
    {
      "cell_type": "code",
      "source": [
        "t0 = torch.tensor(4)  # tensor with rank or dimension 0, ie a scalar\n",
        "print(t0)\n",
        "t0.ndim   # This is tensor with 0 dimension\n"
      ],
      "metadata": {
        "colab": {
          "base_uri": "https://localhost:8080/"
        },
        "id": "vqpP3O7dY5sa",
        "outputId": "726acfa2-ec94-476f-d532-25e8721359cc"
      },
      "execution_count": 2,
      "outputs": [
        {
          "output_type": "stream",
          "name": "stdout",
          "text": [
            "tensor(4)\n"
          ]
        },
        {
          "output_type": "execute_result",
          "data": {
            "text/plain": [
              "0"
            ]
          },
          "metadata": {},
          "execution_count": 2
        }
      ]
    },
    {
      "cell_type": "code",
      "source": [
        "t1 = torch.tensor([1.0,2.3,3.6])  # A 1D tensor, a vecrot\n",
        "print(t1)\n",
        "t1.ndim"
      ],
      "metadata": {
        "colab": {
          "base_uri": "https://localhost:8080/"
        },
        "id": "t_qQ4bLUWOkg",
        "outputId": "ce8e8299-dca9-4cc3-d59e-0cea607f649f"
      },
      "execution_count": 3,
      "outputs": [
        {
          "output_type": "stream",
          "name": "stdout",
          "text": [
            "tensor([1.0000, 2.3000, 3.6000])\n"
          ]
        },
        {
          "output_type": "execute_result",
          "data": {
            "text/plain": [
              "1"
            ]
          },
          "metadata": {},
          "execution_count": 3
        }
      ]
    },
    {
      "cell_type": "code",
      "source": [
        "t2 = torch.tensor([[1,2,3],\n",
        "                   [4,5,6]])   # A 2D tensor or a matrix\n",
        "print(t2)\n",
        "t2.ndim"
      ],
      "metadata": {
        "colab": {
          "base_uri": "https://localhost:8080/"
        },
        "id": "rIJ0HboFYVJ7",
        "outputId": "e1d1495e-c078-4d3b-84a4-b2cdaa931116"
      },
      "execution_count": 4,
      "outputs": [
        {
          "output_type": "stream",
          "name": "stdout",
          "text": [
            "tensor([[1, 2, 3],\n",
            "        [4, 5, 6]])\n"
          ]
        },
        {
          "output_type": "execute_result",
          "data": {
            "text/plain": [
              "2"
            ]
          },
          "metadata": {},
          "execution_count": 4
        }
      ]
    },
    {
      "cell_type": "markdown",
      "source": [
        "### Tensor's data type\n",
        "\n",
        "We can change tensor's data type by passing an optional argument"
      ],
      "metadata": {
        "id": "Xdia7CW9q-K-"
      }
    },
    {
      "cell_type": "code",
      "source": [
        "t2.dtype # t2 is tensor containg integers"
      ],
      "metadata": {
        "colab": {
          "base_uri": "https://localhost:8080/"
        },
        "id": "pM5GfnBYoVPU",
        "outputId": "b591445d-8103-4769-cbb1-a44a4e9470c9"
      },
      "execution_count": 5,
      "outputs": [
        {
          "output_type": "execute_result",
          "data": {
            "text/plain": [
              "torch.int64"
            ]
          },
          "metadata": {},
          "execution_count": 5
        }
      ]
    },
    {
      "cell_type": "code",
      "source": [
        "t2 = torch.tensor([[1,2,3],\n",
        "                   [4,5,6]],dtype =torch.float16)"
      ],
      "metadata": {
        "id": "WgXqicyqr_m_"
      },
      "execution_count": 6,
      "outputs": []
    },
    {
      "cell_type": "code",
      "source": [
        "t2.dtype"
      ],
      "metadata": {
        "id": "vKV2eIYAsYyo",
        "outputId": "edf6ed9f-5980-4335-cd89-d20e70dd865c",
        "colab": {
          "base_uri": "https://localhost:8080/"
        }
      },
      "execution_count": 7,
      "outputs": [
        {
          "output_type": "execute_result",
          "data": {
            "text/plain": [
              "torch.float16"
            ]
          },
          "metadata": {},
          "execution_count": 7
        }
      ]
    },
    {
      "cell_type": "markdown",
      "source": [
        "### Shape of a tensor\n",
        "\n",
        "We can get number of rows and columns by `.shape` method"
      ],
      "metadata": {
        "id": "pvCsLJSOdOSt"
      }
    },
    {
      "cell_type": "code",
      "source": [
        "t2.shape # A 2D tensor with 2 rows and 3 columns"
      ],
      "metadata": {
        "colab": {
          "base_uri": "https://localhost:8080/"
        },
        "id": "trPhlEPwcJ7H",
        "outputId": "b882596f-2490-4437-a71b-909a9bbbfc0f"
      },
      "execution_count": 8,
      "outputs": [
        {
          "output_type": "execute_result",
          "data": {
            "text/plain": [
              "torch.Size([2, 3])"
            ]
          },
          "metadata": {},
          "execution_count": 8
        }
      ]
    },
    {
      "cell_type": "markdown",
      "source": [
        "### Initializing a tensor\n",
        "\n",
        "Similar to Numpy arrays we can initialize a tensors with zeros, ones, random values, ..."
      ],
      "metadata": {
        "id": "gARyFjKZZ2zH"
      }
    },
    {
      "cell_type": "code",
      "source": [
        "zero_tensor = torch.zeros(2,5)  # A tensor with 2 rows and 5 columns with zeros\n",
        "print(zero_tensor)"
      ],
      "metadata": {
        "colab": {
          "base_uri": "https://localhost:8080/"
        },
        "id": "kj2ZeF_hZ1AL",
        "outputId": "a74cd387-7758-401f-96b5-aa99b488a9fb"
      },
      "execution_count": 9,
      "outputs": [
        {
          "output_type": "stream",
          "name": "stdout",
          "text": [
            "tensor([[0., 0., 0., 0., 0.],\n",
            "        [0., 0., 0., 0., 0.]])\n"
          ]
        }
      ]
    },
    {
      "cell_type": "code",
      "source": [
        "range_tensor = torch.arange(0,10,2)  # A tensor with values 0,2,4,6,8,10\n",
        "print(range_tensor)"
      ],
      "metadata": {
        "colab": {
          "base_uri": "https://localhost:8080/"
        },
        "id": "--Hbx41Aauwc",
        "outputId": "4af9dea0-604d-4300-aa8f-28aa76336185"
      },
      "execution_count": 10,
      "outputs": [
        {
          "output_type": "stream",
          "name": "stdout",
          "text": [
            "tensor([0, 2, 4, 6, 8])\n"
          ]
        }
      ]
    },
    {
      "cell_type": "markdown",
      "source": [
        "Let's go to higher dimensions\n"
      ],
      "metadata": {
        "id": "1zWmyN88dho9"
      }
    },
    {
      "cell_type": "code",
      "source": [
        "t3 = torch.tensor([[[1,3,3],\n",
        "                    [2,5,3],\n",
        "                    [6,2,3]]])  # A 3D tensor or a cube, columns are in depth\n",
        "print(t3)\n",
        "t3.ndim\n"
      ],
      "metadata": {
        "colab": {
          "base_uri": "https://localhost:8080/"
        },
        "id": "iympzTgndnMT",
        "outputId": "970b9a3a-c5e8-4552-9551-69edd05780f5"
      },
      "execution_count": 1,
      "outputs": [
        {
          "output_type": "error",
          "ename": "NameError",
          "evalue": "name 'torch' is not defined",
          "traceback": [
            "\u001b[0;31m---------------------------------------------------------------------------\u001b[0m",
            "\u001b[0;31mNameError\u001b[0m                                 Traceback (most recent call last)",
            "\u001b[0;32m<ipython-input-1-3e89f6f58cf5>\u001b[0m in \u001b[0;36m<cell line: 1>\u001b[0;34m()\u001b[0m\n\u001b[0;32m----> 1\u001b[0;31m t3 = torch.tensor([[[1,3,3],\n\u001b[0m\u001b[1;32m      2\u001b[0m                     \u001b[0;34m[\u001b[0m\u001b[0;36m2\u001b[0m\u001b[0;34m,\u001b[0m\u001b[0;36m5\u001b[0m\u001b[0;34m,\u001b[0m\u001b[0;36m3\u001b[0m\u001b[0;34m]\u001b[0m\u001b[0;34m,\u001b[0m\u001b[0;34m\u001b[0m\u001b[0;34m\u001b[0m\u001b[0m\n\u001b[1;32m      3\u001b[0m                     [6,2,3]]])  # A 3D tensor or a cube, columns are in depth\n\u001b[1;32m      4\u001b[0m \u001b[0mprint\u001b[0m\u001b[0;34m(\u001b[0m\u001b[0mt3\u001b[0m\u001b[0;34m)\u001b[0m\u001b[0;34m\u001b[0m\u001b[0;34m\u001b[0m\u001b[0m\n\u001b[1;32m      5\u001b[0m \u001b[0mt3\u001b[0m\u001b[0;34m.\u001b[0m\u001b[0mndim\u001b[0m\u001b[0;34m\u001b[0m\u001b[0;34m\u001b[0m\u001b[0m\n",
            "\u001b[0;31mNameError\u001b[0m: name 'torch' is not defined"
          ]
        }
      ]
    },
    {
      "cell_type": "code",
      "source": [
        "t3.shape  # A 3D tensor with 1 row, 3 columns and 3 depth"
      ],
      "metadata": {
        "id": "f390tjCjeh9s"
      },
      "execution_count": null,
      "outputs": []
    },
    {
      "cell_type": "markdown",
      "source": [
        "Let's create a tensor with shape (2,3,2)"
      ],
      "metadata": {
        "id": "B-Fs2qI-gdML"
      }
    },
    {
      "cell_type": "code",
      "source": [
        "t3_2 = torch.tensor([[[1,3],\n",
        "                      [3,5],\n",
        "                      [6,4]],\n",
        "\n",
        "                     [[3,4],\n",
        "                      [1,3],\n",
        "                      [4,3]]])  # A 3D tensor with 2 rows, 3 columns and 2 depth\n",
        "print(t3_2)"
      ],
      "metadata": {
        "id": "e5DaQW4egmlW"
      },
      "execution_count": null,
      "outputs": []
    },
    {
      "cell_type": "code",
      "source": [
        "t3_2.shape"
      ],
      "metadata": {
        "id": "c3v75_7LhbX9"
      },
      "execution_count": null,
      "outputs": []
    },
    {
      "cell_type": "code",
      "source": [
        "# Exercise: Generate a tensor with 3 rows, 2 columns and 2 depth\n",
        "my_tensor = ...\n",
        "print(my_tensor)\n",
        "print(my_tensor.shape)"
      ],
      "metadata": {
        "id": "xQkQ7Gbn-Y0R"
      },
      "execution_count": null,
      "outputs": []
    },
    {
      "cell_type": "markdown",
      "source": [
        "## Reductions Operations"
      ],
      "metadata": {
        "id": "PISmSW-eLlj3"
      }
    },
    {
      "cell_type": "code",
      "source": [
        "# Creating a tensor\n",
        "a_tensor = torch.arange(start=0,end=20,step=2)\n",
        "\n",
        "# Some frequently used data summary statistics\n",
        "a_tensor.min(),a_tensor.max(),a_tensor.sum()"
      ],
      "metadata": {
        "id": "bPjQjsEBMYMN"
      },
      "execution_count": null,
      "outputs": []
    },
    {
      "cell_type": "code",
      "source": [
        "# What about mean?\n",
        "a_tensor.mean()\n"
      ],
      "metadata": {
        "id": "Hf6LM94MP1jn"
      },
      "execution_count": null,
      "outputs": []
    },
    {
      "cell_type": "code",
      "source": [
        "a_tensor.dtype"
      ],
      "metadata": {
        "id": "-ZH6qfqEP76a"
      },
      "execution_count": null,
      "outputs": []
    },
    {
      "cell_type": "markdown",
      "source": [
        "`mean()` does not work when data type is too long or it is integer. To make it work we should change data type to a shorter data type"
      ],
      "metadata": {
        "id": "_T1fMzFBQDej"
      }
    },
    {
      "cell_type": "code",
      "source": [
        "a_tensor.type(torch.float32).mean()"
      ],
      "metadata": {
        "id": "5_ASoYdfQSyW"
      },
      "execution_count": null,
      "outputs": []
    },
    {
      "cell_type": "markdown",
      "source": [
        "### Finding positional min and max"
      ],
      "metadata": {
        "id": "TZ441O_WRxXe"
      }
    },
    {
      "cell_type": "code",
      "source": [
        "a_tensor.argmin()  # Returns index of minimum value\n",
        "a_tensor.argmax()  # Returns index of maximum value"
      ],
      "metadata": {
        "id": "3WdAClt7Rw1l"
      },
      "execution_count": null,
      "outputs": []
    },
    {
      "cell_type": "markdown",
      "source": [
        "### Random tensors\n",
        "\n",
        "Random tensors are important becuase in deep neural networks we start by setting weights to random values and then try to optimize those weieghts.\n",
        "\n",
        "`start with random values ==> look at your data ==> update your weights ==> look at your dagta ==> updata your weights`"
      ],
      "metadata": {
        "id": "gv0iG0ttG1ny"
      }
    },
    {
      "cell_type": "code",
      "source": [
        "rand_tensor = torch.rand(3,4)  # A tensor with random values\n",
        "print(rand_tensor)"
      ],
      "metadata": {
        "id": "WNnBUwCBHKdS"
      },
      "execution_count": null,
      "outputs": []
    },
    {
      "cell_type": "markdown",
      "source": [
        "To reproduce the result when random processes is involved we usually seed the RNG.\n"
      ],
      "metadata": {
        "id": "v-qfTn-QaK3N"
      }
    },
    {
      "cell_type": "code",
      "source": [
        "torch.manual_seed(100)\n",
        "torch.rand(3)"
      ],
      "metadata": {
        "id": "l0M3YJCWaigU",
        "outputId": "75b8fbc3-0906-470a-8192-c3f2d107b12a",
        "colab": {
          "base_uri": "https://localhost:8080/"
        }
      },
      "execution_count": 2,
      "outputs": [
        {
          "output_type": "error",
          "ename": "NameError",
          "evalue": "name 'torch' is not defined",
          "traceback": [
            "\u001b[0;31m---------------------------------------------------------------------------\u001b[0m",
            "\u001b[0;31mNameError\u001b[0m                                 Traceback (most recent call last)",
            "\u001b[0;32m<ipython-input-2-df112d11e3d3>\u001b[0m in \u001b[0;36m<cell line: 1>\u001b[0;34m()\u001b[0m\n\u001b[0;32m----> 1\u001b[0;31m \u001b[0mtorch\u001b[0m\u001b[0;34m.\u001b[0m\u001b[0mmanual_seed\u001b[0m\u001b[0;34m(\u001b[0m\u001b[0;36m100\u001b[0m\u001b[0;34m)\u001b[0m\u001b[0;34m\u001b[0m\u001b[0;34m\u001b[0m\u001b[0m\n\u001b[0m\u001b[1;32m      2\u001b[0m \u001b[0mtorch\u001b[0m\u001b[0;34m.\u001b[0m\u001b[0mrand\u001b[0m\u001b[0;34m(\u001b[0m\u001b[0;36m3\u001b[0m\u001b[0;34m)\u001b[0m\u001b[0;34m\u001b[0m\u001b[0;34m\u001b[0m\u001b[0m\n",
            "\u001b[0;31mNameError\u001b[0m: name 'torch' is not defined"
          ]
        }
      ]
    },
    {
      "cell_type": "markdown",
      "source": [
        "### Tensor Manipulatoin\n",
        "\n",
        "\n",
        "Indexing, similar to numpy, allows for accessing elements in a tensor through their indices. In any numpy-like array, indexing starts at 0, and when specifying ranges, it includes the starting index up to, but not including, the ending index. Additionally, negative indices can be used to refer to elements relative to the end of the list. This method of accessing elements is often called slicing.\n",
        "\n",
        "For instance, using the index [-1] will access the last element. The slice [1:3] captures the second and third elements. Furthermore, the slice [:-2] selects all elements up to, but excluding, the last two elements."
      ],
      "metadata": {
        "id": "8FrBh3NXDwYP"
      }
    },
    {
      "cell_type": "code",
      "source": [
        "arr = np.array([10, 20, 30, 40, 50])\n",
        "last_element = arr[-1]  # Outputs 50\n",
        "\n",
        "specific_elements = arr[1:3]  # Outputs [20, 30]\n",
        "\n",
        "\n",
        "all_but_last_two = arr[:-2]  # Outputs [10, 20, 30]\n"
      ],
      "metadata": {
        "id": "U-2yD_1wD4w0"
      },
      "execution_count": null,
      "outputs": []
    },
    {
      "cell_type": "markdown",
      "source": [
        "**Reshaping** tensors involves changing the structure of the data. Often, there's a need to convert 2D data into a 1D format or vice versa. To facilitate these transformations, the methods .flatten() and .reshape() are used.\n",
        "\n",
        "For instance:\n",
        "\n",
        "Flatten a 2D tensor into a 1D tensor:"
      ],
      "metadata": {
        "id": "M0Q9BoOTFwbD"
      }
    },
    {
      "cell_type": "code",
      "source": [
        "tensor_2d = torch.tensor([[1, 2], [3, 4]])\n",
        "flattened_tensor = tensor_2d.flatten()  # Outputs: tensor([1, 2, 3, 4])\n"
      ],
      "metadata": {
        "id": "hFlHESOtF7WE",
        "outputId": "3ffd4d33-a319-4919-8a19-e6ff43ca468d",
        "colab": {
          "base_uri": "https://localhost:8080/",
          "height": 158
        }
      },
      "execution_count": 1,
      "outputs": [
        {
          "output_type": "error",
          "ename": "NameError",
          "evalue": "name 'torch' is not defined",
          "traceback": [
            "\u001b[0;31m---------------------------------------------------------------------------\u001b[0m",
            "\u001b[0;31mNameError\u001b[0m                                 Traceback (most recent call last)",
            "\u001b[0;32m<ipython-input-1-47ce039280d3>\u001b[0m in \u001b[0;36m<cell line: 1>\u001b[0;34m()\u001b[0m\n\u001b[0;32m----> 1\u001b[0;31m \u001b[0mtensor_2d\u001b[0m \u001b[0;34m=\u001b[0m \u001b[0mtorch\u001b[0m\u001b[0;34m.\u001b[0m\u001b[0mtensor\u001b[0m\u001b[0;34m(\u001b[0m\u001b[0;34m[\u001b[0m\u001b[0;34m[\u001b[0m\u001b[0;36m1\u001b[0m\u001b[0;34m,\u001b[0m \u001b[0;36m2\u001b[0m\u001b[0;34m]\u001b[0m\u001b[0;34m,\u001b[0m \u001b[0;34m[\u001b[0m\u001b[0;36m3\u001b[0m\u001b[0;34m,\u001b[0m \u001b[0;36m4\u001b[0m\u001b[0;34m]\u001b[0m\u001b[0;34m]\u001b[0m\u001b[0;34m)\u001b[0m\u001b[0;34m\u001b[0m\u001b[0;34m\u001b[0m\u001b[0m\n\u001b[0m\u001b[1;32m      2\u001b[0m \u001b[0mflattened_tensor\u001b[0m \u001b[0;34m=\u001b[0m \u001b[0mtensor_2d\u001b[0m\u001b[0;34m.\u001b[0m\u001b[0mflatten\u001b[0m\u001b[0;34m(\u001b[0m\u001b[0;34m)\u001b[0m  \u001b[0;31m# Outputs: tensor([1, 2, 3, 4])\u001b[0m\u001b[0;34m\u001b[0m\u001b[0;34m\u001b[0m\u001b[0m\n",
            "\u001b[0;31mNameError\u001b[0m: name 'torch' is not defined"
          ]
        }
      ]
    },
    {
      "cell_type": "markdown",
      "source": [
        "Reshape a 1D tensor into a 2D tensor:"
      ],
      "metadata": {
        "id": "lxJGtUorGXY7"
      }
    },
    {
      "cell_type": "code",
      "source": [
        "tensor_1d = torch.tensor([1, 2, 3, 4])\n",
        "reshaped_tensor = tensor_1d.reshape(2, 2)  # Outputs: tensor([[1, 2], [3, 4]])\n"
      ],
      "metadata": {
        "id": "AWksZO10GTK_",
        "outputId": "0642d6a1-64be-4393-a499-2c3060f46c9f",
        "colab": {
          "base_uri": "https://localhost:8080/",
          "height": 158
        }
      },
      "execution_count": 1,
      "outputs": [
        {
          "output_type": "error",
          "ename": "NameError",
          "evalue": "name 'torch' is not defined",
          "traceback": [
            "\u001b[0;31m---------------------------------------------------------------------------\u001b[0m",
            "\u001b[0;31mNameError\u001b[0m                                 Traceback (most recent call last)",
            "\u001b[0;32m<ipython-input-1-e41d69522de9>\u001b[0m in \u001b[0;36m<cell line: 1>\u001b[0;34m()\u001b[0m\n\u001b[0;32m----> 1\u001b[0;31m \u001b[0mtensor_1d\u001b[0m \u001b[0;34m=\u001b[0m \u001b[0mtorch\u001b[0m\u001b[0;34m.\u001b[0m\u001b[0mtensor\u001b[0m\u001b[0;34m(\u001b[0m\u001b[0;34m[\u001b[0m\u001b[0;36m1\u001b[0m\u001b[0;34m,\u001b[0m \u001b[0;36m2\u001b[0m\u001b[0;34m,\u001b[0m \u001b[0;36m3\u001b[0m\u001b[0;34m,\u001b[0m \u001b[0;36m4\u001b[0m\u001b[0;34m]\u001b[0m\u001b[0;34m)\u001b[0m\u001b[0;34m\u001b[0m\u001b[0;34m\u001b[0m\u001b[0m\n\u001b[0m\u001b[1;32m      2\u001b[0m \u001b[0mreshaped_tensor\u001b[0m \u001b[0;34m=\u001b[0m \u001b[0mtensor_1d\u001b[0m\u001b[0;34m.\u001b[0m\u001b[0mreshape\u001b[0m\u001b[0;34m(\u001b[0m\u001b[0;36m2\u001b[0m\u001b[0;34m,\u001b[0m \u001b[0;36m2\u001b[0m\u001b[0;34m)\u001b[0m  \u001b[0;31m# Outputs: tensor([[1, 2], [3, 4]])\u001b[0m\u001b[0;34m\u001b[0m\u001b[0;34m\u001b[0m\u001b[0m\n",
            "\u001b[0;31mNameError\u001b[0m: name 'torch' is not defined"
          ]
        }
      ]
    },
    {
      "cell_type": "markdown",
      "source": [
        "**Squeezing tensors**"
      ],
      "metadata": {
        "id": "vSIsVVUdHRIb"
      }
    },
    {
      "cell_type": "code",
      "source": [
        "tonsor_2d = torch.ones(1,5) # A 2D tensor with a single row\n",
        "tensor_1 = torch.tensor([1,1,1,1,1]) # A 1D tensor with a single row\n",
        "\n",
        "tensor_2d_to_1d = tonsor_2d.squeeze(0)\n",
        "print(tensor_2d_to_1d.ndim)"
      ],
      "metadata": {
        "id": "IJw80z9OI3xL"
      },
      "execution_count": null,
      "outputs": []
    },
    {
      "cell_type": "markdown",
      "source": [
        "**Swapping Dimesions**\n",
        "\n",
        "Sometimes we need to swap dimensions so that our data is in correct form.It is similar to `.transpose` but in higher dimensions.\n"
      ],
      "metadata": {
        "id": "X6iowSaYK0x2"
      }
    },
    {
      "cell_type": "code",
      "source": [
        "my_image = torch.randn(3,254,128)\n",
        "\n",
        "my_image_prime = my_image.permute(2,1,0)\n",
        "\n",
        "plt.imshow(my_image_prime)"
      ],
      "metadata": {
        "id": "er8nvHMwK59I"
      },
      "execution_count": null,
      "outputs": []
    }
  ]
}