{
  "nbformat": 4,
  "nbformat_minor": 0,
  "metadata": {
    "colab": {
      "provenance": [],
      "gpuType": "T4",
      "authorship_tag": "ABX9TyMgoFqr+TNL5/Obm9jq9OOM",
      "include_colab_link": true
    },
    "kernelspec": {
      "name": "python3",
      "display_name": "Python 3"
    },
    "language_info": {
      "name": "python"
    }
  },
  "cells": [
    {
      "cell_type": "markdown",
      "metadata": {
        "id": "view-in-github",
        "colab_type": "text"
      },
      "source": [
        "<a href=\"https://colab.research.google.com/github/MiladQolami/Mathematical-tools-for-neuroscience/blob/main/Machine_Learning/IntroToPytorch.ipynb\" target=\"_parent\"><img src=\"https://colab.research.google.com/assets/colab-badge.svg\" alt=\"Open In Colab\"/></a>"
      ]
    },
    {
      "cell_type": "markdown",
      "source": [
        "# Introduction\n",
        "\n",
        "PyTorch is an open-source machine learning library for Python, primarily developed by Facebook's AI Research lab (FAIR).\n",
        "\n",
        "Several giant tech companies like Meta and Microsoft use pytorch to bring machine learning to their products. Pytorch is #1 library for deep learning among developers.\n",
        "\n",
        "\n",
        "\n"
      ],
      "metadata": {
        "id": "aIQqkatfpN1R"
      }
    },
    {
      "cell_type": "code",
      "source": [
        "import torch\n",
        "import matplotlib.pyplot as plt\n",
        "import numpy as np\n"
      ],
      "metadata": {
        "id": "O4h-EQM_QeDx"
      },
      "execution_count": 17,
      "outputs": []
    },
    {
      "cell_type": "markdown",
      "source": [
        "# Introduction to Tensors\n",
        "\n",
        "Tensors are fundemental data structrues in pytorch. We store infromation of input and output data in tensors. Tensors are similar to Numpy ndarrays but with additional features. So tensors can be considered as multidimensional matrices.\n",
        "\n",
        "Tensors can have any number of dimensions and different lengths along each dimension. For example a scalar is a tensor of rank 0, a vector is a tensor of rank 1 and a matrix is a tensor with rank 2.\n",
        "\n"
      ],
      "metadata": {
        "id": "IK4-InzLQs3M"
      }
    },
    {
      "cell_type": "markdown",
      "source": [
        "\n",
        "\n",
        "<center>\n",
        "<img src = 'https://raw.githubusercontent.com/MiladQolami/Mathematical-tools-for-neuroscience/main/Machine_Learning/tensor.jpg'>\n",
        "<center>"
      ],
      "metadata": {
        "id": "QzVaJdwfTgaJ"
      }
    },
    {
      "cell_type": "markdown",
      "source": [
        "## Creating tensors\n",
        "\n",
        "we can store different types of numerical data in tensors, like integers, floating numbers and complex numbers.\n",
        "\n",
        "Lect's create some tensors."
      ],
      "metadata": {
        "id": "CdyhCVLqXBqP"
      }
    },
    {
      "cell_type": "code",
      "source": [
        "t0 = torch.tensor(4)  # tensor with rank or dimension 0, ie a scalar\n",
        "print(t0)\n",
        "t0.ndim   # This is tensor with 0 dimension\n"
      ],
      "metadata": {
        "colab": {
          "base_uri": "https://localhost:8080/"
        },
        "id": "vqpP3O7dY5sa",
        "outputId": "ff17639d-5d32-4ad0-e915-95af9ca41aa8"
      },
      "execution_count": 19,
      "outputs": [
        {
          "output_type": "execute_result",
          "data": {
            "text/plain": [
              "tensor(4)"
            ]
          },
          "metadata": {},
          "execution_count": 19
        }
      ]
    },
    {
      "cell_type": "code",
      "source": [
        "t1 = torch.tensor([1.0,2.3,3.6])  # A 1D tensor, a vecrot\n",
        "print(t1)\n",
        "t1.ndim"
      ],
      "metadata": {
        "colab": {
          "base_uri": "https://localhost:8080/"
        },
        "id": "t_qQ4bLUWOkg",
        "outputId": "973c4cfa-5f45-4c39-d1e2-985e5c307c19"
      },
      "execution_count": 20,
      "outputs": [
        {
          "output_type": "stream",
          "name": "stdout",
          "text": [
            "tensor([1.0000, 2.3000, 3.6000])\n"
          ]
        },
        {
          "output_type": "execute_result",
          "data": {
            "text/plain": [
              "1"
            ]
          },
          "metadata": {},
          "execution_count": 20
        }
      ]
    },
    {
      "cell_type": "code",
      "source": [
        "t2 = torch.tensor([[1,2,3],\n",
        "                   [4,5,6]])   # A 2D tensor or a matrix\n",
        "print(t2)\n",
        "t2.ndim"
      ],
      "metadata": {
        "colab": {
          "base_uri": "https://localhost:8080/"
        },
        "id": "rIJ0HboFYVJ7",
        "outputId": "1f9774ce-4747-4223-af89-8051ba5471ec"
      },
      "execution_count": 21,
      "outputs": [
        {
          "output_type": "stream",
          "name": "stdout",
          "text": [
            "tensor([[1, 2, 3],\n",
            "        [4, 5, 6]])\n"
          ]
        },
        {
          "output_type": "execute_result",
          "data": {
            "text/plain": [
              "2"
            ]
          },
          "metadata": {},
          "execution_count": 21
        }
      ]
    },
    {
      "cell_type": "markdown",
      "source": [
        "### Tensor's data type\n",
        "\n",
        "We can change tensor's data type by passing an optional argument"
      ],
      "metadata": {
        "id": "Xdia7CW9q-K-"
      }
    },
    {
      "cell_type": "code",
      "source": [
        "t2.dtype # t2 is tensor containg integers"
      ],
      "metadata": {
        "colab": {
          "base_uri": "https://localhost:8080/"
        },
        "id": "pM5GfnBYoVPU",
        "outputId": "be19c3fd-350a-4489-ec10-7a3e2887a223"
      },
      "execution_count": 5,
      "outputs": [
        {
          "output_type": "execute_result",
          "data": {
            "text/plain": [
              "torch.int64"
            ]
          },
          "metadata": {},
          "execution_count": 5
        }
      ]
    },
    {
      "cell_type": "code",
      "source": [
        "t2 = torch.tensor([[1,2,3],\n",
        "                   [4,5,6]],dtype =torch.float16)"
      ],
      "metadata": {
        "id": "WgXqicyqr_m_"
      },
      "execution_count": 22,
      "outputs": []
    },
    {
      "cell_type": "code",
      "source": [
        "t2.dtype"
      ],
      "metadata": {
        "id": "vKV2eIYAsYyo",
        "outputId": "7aab23ab-4ea6-41e0-b856-d09e74256f59",
        "colab": {
          "base_uri": "https://localhost:8080/"
        }
      },
      "execution_count": 23,
      "outputs": [
        {
          "output_type": "execute_result",
          "data": {
            "text/plain": [
              "torch.float16"
            ]
          },
          "metadata": {},
          "execution_count": 23
        }
      ]
    },
    {
      "cell_type": "markdown",
      "source": [
        "### Shape of a tensor\n",
        "\n",
        "We can get number of rows and columns by `.shape` method"
      ],
      "metadata": {
        "id": "pvCsLJSOdOSt"
      }
    },
    {
      "cell_type": "code",
      "source": [
        "t2.shape # A 2D tensor with 2 rows and 3 columns"
      ],
      "metadata": {
        "colab": {
          "base_uri": "https://localhost:8080/"
        },
        "id": "trPhlEPwcJ7H",
        "outputId": "478a32a0-17d3-45b0-94f0-b949b94e5718"
      },
      "execution_count": 30,
      "outputs": [
        {
          "output_type": "execute_result",
          "data": {
            "text/plain": [
              "torch.Size([2, 3])"
            ]
          },
          "metadata": {},
          "execution_count": 30
        }
      ]
    },
    {
      "cell_type": "markdown",
      "source": [
        "### Initializing a tensor\n",
        "\n",
        "Similar to Numpy arrays we can initialize a tensors with zeros, ones, random values, ..."
      ],
      "metadata": {
        "id": "gARyFjKZZ2zH"
      }
    },
    {
      "cell_type": "code",
      "source": [
        "zero_tensor = torch.zeros(2,5)  # A tensor with 2 rows and 5 columns with zeros\n",
        "print(zero_tensor)"
      ],
      "metadata": {
        "colab": {
          "base_uri": "https://localhost:8080/"
        },
        "id": "kj2ZeF_hZ1AL",
        "outputId": "e7780eb4-a8e3-441a-e024-90aa507899c2"
      },
      "execution_count": 9,
      "outputs": [
        {
          "output_type": "stream",
          "name": "stdout",
          "text": [
            "tensor([[0., 0., 0., 0., 0.],\n",
            "        [0., 0., 0., 0., 0.]])\n"
          ]
        }
      ]
    },
    {
      "cell_type": "code",
      "source": [
        "range_tensor = torch.arange(0,10,2)  # A tensor with values 0,2,4,6,8,10\n",
        "print(range_tensor)"
      ],
      "metadata": {
        "colab": {
          "base_uri": "https://localhost:8080/"
        },
        "id": "--Hbx41Aauwc",
        "outputId": "7ab9b785-d06f-4e0b-854b-aeaa5a865e19"
      },
      "execution_count": 31,
      "outputs": [
        {
          "output_type": "stream",
          "name": "stdout",
          "text": [
            "tensor([0, 2, 4, 6, 8])\n"
          ]
        }
      ]
    },
    {
      "cell_type": "markdown",
      "source": [
        "Let's go to higher dimensions\n"
      ],
      "metadata": {
        "id": "1zWmyN88dho9"
      }
    },
    {
      "cell_type": "code",
      "source": [
        "t3 = torch.tensor([[[1,3,3],\n",
        "                    [2,5,3],\n",
        "                    [6,2,3]]])  # A 3D tensor or a cube, columns are in depth\n",
        "print(t3)\n",
        "t3.ndim\n"
      ],
      "metadata": {
        "colab": {
          "base_uri": "https://localhost:8080/"
        },
        "id": "iympzTgndnMT",
        "outputId": "61be3077-8904-4e57-f30e-a88fa481a8c3"
      },
      "execution_count": 36,
      "outputs": [
        {
          "output_type": "execute_result",
          "data": {
            "text/plain": [
              "tensor([[[1, 3, 3],\n",
              "         [2, 5, 3],\n",
              "         [6, 2, 3]]])"
            ]
          },
          "metadata": {},
          "execution_count": 36
        }
      ]
    },
    {
      "cell_type": "code",
      "source": [
        "t3.shape  # A 3D tensor with 1 row, 3 columns and 3 depth"
      ],
      "metadata": {
        "colab": {
          "base_uri": "https://localhost:8080/"
        },
        "id": "f390tjCjeh9s",
        "outputId": "f753498a-7cd9-4c81-a8f5-152aa291c93d"
      },
      "execution_count": 35,
      "outputs": [
        {
          "output_type": "execute_result",
          "data": {
            "text/plain": [
              "torch.Size([1, 3, 3])"
            ]
          },
          "metadata": {},
          "execution_count": 35
        }
      ]
    },
    {
      "cell_type": "markdown",
      "source": [
        "Let's create a tensor with shape (2,3,2)"
      ],
      "metadata": {
        "id": "B-Fs2qI-gdML"
      }
    },
    {
      "cell_type": "code",
      "source": [
        "t3_2 = torch.tensor([[[1,3],\n",
        "                      [3,5],\n",
        "                      [6,4]],\n",
        "\n",
        "                     [[3,4],\n",
        "                      [1,3],\n",
        "                      [4,3]]])  # A 3D tensor with 2 rows, 3 columns and 2 depth\n",
        "print(t3_2)"
      ],
      "metadata": {
        "colab": {
          "base_uri": "https://localhost:8080/"
        },
        "id": "e5DaQW4egmlW",
        "outputId": "a9290781-5a5b-4831-8651-afd99b7ff528"
      },
      "execution_count": 13,
      "outputs": [
        {
          "output_type": "stream",
          "name": "stdout",
          "text": [
            "tensor([[[1, 3],\n",
            "         [3, 5],\n",
            "         [6, 4]],\n",
            "\n",
            "        [[3, 4],\n",
            "         [1, 3],\n",
            "         [4, 3]]])\n"
          ]
        }
      ]
    },
    {
      "cell_type": "code",
      "source": [
        "t3_2.shape"
      ],
      "metadata": {
        "colab": {
          "base_uri": "https://localhost:8080/"
        },
        "id": "c3v75_7LhbX9",
        "outputId": "05997191-292e-4351-c159-5cfc2abfc6d5"
      },
      "execution_count": 47,
      "outputs": [
        {
          "output_type": "execute_result",
          "data": {
            "text/plain": [
              "torch.Size([2, 3, 2])"
            ]
          },
          "metadata": {},
          "execution_count": 47
        }
      ]
    },
    {
      "cell_type": "code",
      "source": [
        "# Exercise: Generate a tensor with 3 rows, 2 columns and 2 depth\n",
        "my_tensor = ...\n",
        "print(my_tensor)\n",
        "print(my_tensor.shape)"
      ],
      "metadata": {
        "id": "xQkQ7Gbn-Y0R"
      },
      "execution_count": 55,
      "outputs": []
    },
    {
      "cell_type": "markdown",
      "source": [
        "## Reductions Operations"
      ],
      "metadata": {
        "id": "PISmSW-eLlj3"
      }
    },
    {
      "cell_type": "code",
      "source": [
        "# Creating a tensor\n",
        "a_tensor = torch.arange(start=0,end=20,step=2)\n",
        "\n",
        "# Some frequently used data summary statistics\n",
        "a_tensor.min(),a_tensor.max(),a_tensor.sum()"
      ],
      "metadata": {
        "id": "bPjQjsEBMYMN",
        "outputId": "a1cff8ae-05a2-4fe0-e08b-7065c2c5889a",
        "colab": {
          "base_uri": "https://localhost:8080/"
        }
      },
      "execution_count": 59,
      "outputs": [
        {
          "output_type": "execute_result",
          "data": {
            "text/plain": [
              "tensor([ 0,  2,  4,  6,  8, 10, 12, 14, 16, 18])"
            ]
          },
          "metadata": {},
          "execution_count": 59
        }
      ]
    },
    {
      "cell_type": "code",
      "source": [
        "# What about mean?\n",
        "a_tensor.mean()\n"
      ],
      "metadata": {
        "id": "Hf6LM94MP1jn"
      },
      "execution_count": 64,
      "outputs": []
    },
    {
      "cell_type": "code",
      "source": [
        "a_tensor.dtype"
      ],
      "metadata": {
        "id": "-ZH6qfqEP76a",
        "outputId": "8ce44111-7eb6-47d0-bd5f-e25299e3ccda",
        "colab": {
          "base_uri": "https://localhost:8080/"
        }
      },
      "execution_count": 65,
      "outputs": [
        {
          "output_type": "execute_result",
          "data": {
            "text/plain": [
              "torch.int64"
            ]
          },
          "metadata": {},
          "execution_count": 65
        }
      ]
    },
    {
      "cell_type": "markdown",
      "source": [
        "`mean()` does not work when data type is too long or it is integer. To make it work we should change data type to a shorter data type"
      ],
      "metadata": {
        "id": "_T1fMzFBQDej"
      }
    },
    {
      "cell_type": "code",
      "source": [
        "a_tensor.type(torch.float32).mean()"
      ],
      "metadata": {
        "id": "5_ASoYdfQSyW",
        "outputId": "63b528a3-ab4f-4c02-a383-4d4a9f034ad4",
        "colab": {
          "base_uri": "https://localhost:8080/"
        }
      },
      "execution_count": 66,
      "outputs": [
        {
          "output_type": "execute_result",
          "data": {
            "text/plain": [
              "tensor(9.)"
            ]
          },
          "metadata": {},
          "execution_count": 66
        }
      ]
    },
    {
      "cell_type": "markdown",
      "source": [
        "### Finding positional min and max"
      ],
      "metadata": {
        "id": "TZ441O_WRxXe"
      }
    },
    {
      "cell_type": "code",
      "source": [
        "a_tensor.argmin()  # Returns index of minimum value\n",
        "a_tensor.argmax()  # Returns index of maximum value"
      ],
      "metadata": {
        "id": "3WdAClt7Rw1l",
        "outputId": "03e5a935-5d56-40ee-9092-18a763fa8aea",
        "colab": {
          "base_uri": "https://localhost:8080/"
        }
      },
      "execution_count": 67,
      "outputs": [
        {
          "output_type": "execute_result",
          "data": {
            "text/plain": [
              "(tensor(0), tensor(9))"
            ]
          },
          "metadata": {},
          "execution_count": 67
        }
      ]
    },
    {
      "cell_type": "markdown",
      "source": [
        "### Random tensors\n",
        "\n",
        "Random tensors are important becuase in deep neural networks we start by setting weights to random values and then try to optimize those weieghts.\n",
        "\n",
        "`start with random values ==> look at your data ==> update your weights ==> look at your dagta ==> updata your weights`"
      ],
      "metadata": {
        "id": "gv0iG0ttG1ny"
      }
    },
    {
      "cell_type": "code",
      "source": [
        "rand_tensor = torch.rand(3,4)  # A tensor with random values\n",
        "print(rand_tensor)"
      ],
      "metadata": {
        "id": "WNnBUwCBHKdS",
        "outputId": "5850f506-37ed-443d-8fd4-290032ae927d",
        "colab": {
          "base_uri": "https://localhost:8080/"
        }
      },
      "execution_count": 69,
      "outputs": [
        {
          "output_type": "stream",
          "name": "stdout",
          "text": [
            "tensor([[0.6053, 0.8160, 0.1115, 0.4562],\n",
            "        [0.6763, 0.1552, 0.7528, 0.7381],\n",
            "        [0.0916, 0.3507, 0.1014, 0.7336]])\n"
          ]
        },
        {
          "output_type": "execute_result",
          "data": {
            "text/plain": [
              "tensor([[0.6053, 0.8160, 0.1115, 0.4562],\n",
              "        [0.6763, 0.1552, 0.7528, 0.7381],\n",
              "        [0.0916, 0.3507, 0.1014, 0.7336]])"
            ]
          },
          "metadata": {},
          "execution_count": 69
        }
      ]
    }
  ]
}