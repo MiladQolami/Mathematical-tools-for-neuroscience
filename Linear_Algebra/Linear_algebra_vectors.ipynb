{
  "nbformat": 4,
  "nbformat_minor": 0,
  "metadata": {
    "colab": {
      "provenance": [],
      "authorship_tag": "ABX9TyNla2k9RYQ1a+tWF2QY0A//",
      "include_colab_link": true
    },
    "kernelspec": {
      "name": "python3",
      "display_name": "Python 3"
    },
    "language_info": {
      "name": "python"
    }
  },
  "cells": [
    {
      "cell_type": "markdown",
      "metadata": {
        "id": "view-in-github",
        "colab_type": "text"
      },
      "source": [
        "<a href=\"https://colab.research.google.com/github/MiladQolami/Mathematical-tools-for-neuroscience/blob/main/Linear_Algebra/Linear_algebra_vectors.ipynb\" target=\"_parent\"><img src=\"https://colab.research.google.com/assets/colab-badge.svg\" alt=\"Open In Colab\"/></a>"
      ]
    },
    {
      "cell_type": "markdown",
      "source": [
        "# Vectors\n",
        "____\n"
      ],
      "metadata": {
        "id": "bDlNe4dtZjzN"
      }
    },
    {
      "cell_type": "markdown",
      "source": [
        "Definition of vectors:\n",
        "\n",
        "\n",
        "1.   Vectros can be cosidered as an ordered list of numbers (algebraic point of view)\n",
        "2.   Vectors can be visualize by an arrow in a coordinate system (geometric point of view)\n",
        "\n",
        "\n",
        "\n"
      ],
      "metadata": {
        "id": "8T2XVIzBaBIM"
      }
    }
  ]
}