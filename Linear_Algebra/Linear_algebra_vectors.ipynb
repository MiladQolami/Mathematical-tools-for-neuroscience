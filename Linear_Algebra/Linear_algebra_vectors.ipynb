{
  "cells": [
    {
      "cell_type": "markdown",
      "metadata": {
        "id": "view-in-github",
        "colab_type": "text"
      },
      "source": [
        "<a href=\"https://colab.research.google.com/github/MiladQolami/Mathematical-tools-for-neuroscience/blob/main/Linear_Algebra/Linear_algebra_vectors.ipynb\" target=\"_parent\"><img src=\"https://colab.research.google.com/assets/colab-badge.svg\" alt=\"Open In Colab\"/></a>"
      ]
    },
    {
      "cell_type": "markdown",
      "metadata": {
        "id": "KIzf95hkOC-H"
      },
      "source": [
        "# **Vectors**\n",
        "____\n"
      ]
    },
    {
      "cell_type": "markdown",
      "source": [
        "## Vectors and Operations"
      ],
      "metadata": {
        "id": "7gMJmgZX18y9"
      }
    },
    {
      "cell_type": "code",
      "execution_count": 1,
      "metadata": {
        "id": "-ly48O4WOC-K"
      },
      "outputs": [],
      "source": [
        "import numpy as np\n",
        "import matplotlib.pyplot as plt"
      ]
    },
    {
      "cell_type": "code",
      "source": [
        "#@markdown Video Tutorial\n",
        "\n",
        "from IPython.display import YouTubeVideo\n",
        "\n",
        "# Replace the video ID with the ID of the YouTube video you want to embed\n",
        "\n",
        "video = YouTubeVideo(id=\"9ICqpT8nmCE&t=275s\", width=854, height=480, fs=1, rel=0)\n",
        "print('Video available at https://youtube.com/watch?v=' + video.id)\n",
        "display(video)"
      ],
      "metadata": {
        "colab": {
          "base_uri": "https://localhost:8080/",
          "height": 519
        },
        "id": "ohs1udg85hc8",
        "outputId": "7e03e7f8-2762-4bbb-a756-62c8e09a0732"
      },
      "execution_count": 5,
      "outputs": [
        {
          "output_type": "stream",
          "name": "stdout",
          "text": [
            "Video available at https://youtube.com/watch?v=https://youtu.be/9ICqpT8nmCE\n"
          ]
        },
        {
          "output_type": "display_data",
          "data": {
            "text/plain": [
              "<IPython.lib.display.YouTubeVideo at 0x7f2f1338ea40>"
            ],
            "text/html": [
              "\n",
              "        <iframe\n",
              "            width=\"854\"\n",
              "            height=\"480\"\n",
              "            src=\"https://www.youtube.com/embed/https://youtu.be/9ICqpT8nmCE?fs=1&rel=0\"\n",
              "            frameborder=\"0\"\n",
              "            allowfullscreen\n",
              "            \n",
              "        ></iframe>\n",
              "        "
            ]
          },
          "metadata": {}
        }
      ]
    },
    {
      "cell_type": "markdown",
      "source": [
        "### Creating  and plotting vectors\n",
        "\n",
        "Vectors are lists of numbers and there are several ways to create them in python, like using built-in data-type list, but `numpy` is a package that makes the life easier doing linear algebra in python."
      ],
      "metadata": {
        "id": "JYdmpVzwOeLv"
      }
    },
    {
      "cell_type": "code",
      "execution_count": 7,
      "metadata": {
        "colab": {
          "base_uri": "https://localhost:8080/"
        },
        "id": "LOs_6wlQOC-O",
        "outputId": "789115cb-5b3a-451b-d07e-05a7cb8fec68"
      },
      "outputs": [
        {
          "output_type": "stream",
          "name": "stdout",
          "text": [
            "[1 3 5]\n"
          ]
        }
      ],
      "source": [
        "# A vector as 1D numpy array\n",
        "aVector = np.array([1,3,5])\n",
        "print(aVector)\n"
      ]
    },
    {
      "cell_type": "code",
      "source": [
        "# A better way to create a vector is using 2D numpy array because we can specify being a row or column vector\n",
        "# Creating a column vector\n",
        "aVector = np.array([[1],[2]])\n",
        "print(aVector)"
      ],
      "metadata": {
        "id": "I1kkleRREqrg",
        "outputId": "3ac25be5-9d3f-4ccf-f7b7-561f8dff8755",
        "colab": {
          "base_uri": "https://localhost:8080/"
        }
      },
      "execution_count": 8,
      "outputs": [
        {
          "output_type": "stream",
          "name": "stdout",
          "text": [
            "[[1]\n",
            " [2]]\n"
          ]
        }
      ]
    },
    {
      "cell_type": "code",
      "source": [
        "# the same vecotor in a row\n",
        "aVector = np.array([[1,2]])\n",
        "print(aVector)"
      ],
      "metadata": {
        "id": "LrCVRxPdfuZk",
        "outputId": "e774b7b6-9ba6-4009-cd67-6f2c3e7d54de",
        "colab": {
          "base_uri": "https://localhost:8080/"
        }
      },
      "execution_count": 9,
      "outputs": [
        {
          "output_type": "stream",
          "name": "stdout",
          "text": [
            "[[1 2]]\n"
          ]
        }
      ]
    },
    {
      "cell_type": "code",
      "source": [
        "# Shape of a vector (number of rows and columns)\n",
        "aVector.shape"
      ],
      "metadata": {
        "id": "ThTi-rnJlpdk",
        "outputId": "cd365e6e-daeb-4142-a5cf-01f97f507b28",
        "colab": {
          "base_uri": "https://localhost:8080/"
        }
      },
      "execution_count": 10,
      "outputs": [
        {
          "output_type": "execute_result",
          "data": {
            "text/plain": [
              "(1, 2)"
            ]
          },
          "metadata": {},
          "execution_count": 10
        }
      ]
    },
    {
      "cell_type": "code",
      "source": [
        "# ploting it in a 2D plane\n",
        "fig,ax = plt.subplots()\n",
        "ax.plot([0,aVector[0,0]],[0,aVector[0,1]],'-^')  # Using a triangle to indicate the tip of the vector\n",
        "ax.plot(0,0,'ko')    # ploting the origin\n",
        "\n",
        "# Adding axis labels and gridlines\n",
        "ax.set(xlabel='x', ylabel='y',xlim = (-3,3), ylim = (-3,3), title='Vector Plot')\n",
        "ax.grid()\n",
        "\n",
        "plt.show()"
      ],
      "metadata": {
        "id": "KYjwIG40fsHe",
        "outputId": "1f80f4a7-4368-41e0-f71d-0723ecbd332c",
        "colab": {
          "base_uri": "https://localhost:8080/",
          "height": 472
        }
      },
      "execution_count": 17,
      "outputs": [
        {
          "output_type": "display_data",
          "data": {
            "text/plain": [
              "<Figure size 640x480 with 1 Axes>"
            ],
            "image/png": "[encoded data removed]"
          },
          "metadata": {}
        }
      ]
    },
    {
      "cell_type": "markdown",
      "source": [
        "**Exerciese 1** \n",
        "\n",
        "plot a 3D vector with arbitrary elements."
      ],
      "metadata": {
        "id": "wZgzKxSgV4jG"
      }
    },
    {
      "cell_type": "code",
      "source": [
        "# The code"
      ],
      "metadata": {
        "id": "phYXBz_7WSPI"
      },
      "execution_count": 18,
      "outputs": []
    },
    {
      "cell_type": "code",
      "source": [
        "#@markdown solution\n",
        "\n",
        "aVector3D = np.array([1, 2, 3])\n",
        "\n",
        "# Creating a 3D plot\n",
        "fig = plt.figure()\n",
        "ax = fig.add_subplot(111, projection='3d')\n",
        "\n",
        "# Plotting the vector\n",
        "ax.plot([0,aVector3D[0]],[0,aVector3D[1]],[0,aVector3D[2]],'-^')  \n",
        "ax.plot(0,0,0,'ko') \n",
        "\n",
        "# Adding axis labels, limtis and a title to the plot\n",
        "ax.set(xlim = (-5,5),ylim = (-5,5),zlim = (-5,5), xlabel='X', ylabel='Y', zlabel='Z', title='Vector Plot')\n",
        "ax.grid()\n",
        "\n",
        "plt.show()"
      ],
      "metadata": {
        "colab": {
          "base_uri": "https://localhost:8080/",
          "height": 434
        },
        "id": "Q3SGr4yDV4M8",
        "outputId": "cc95676e-6cab-4947-9199-f685d1a14432",
        "cellView": "form"
      },
      "execution_count": 19,
      "outputs": [
        {
          "output_type": "display_data",
          "data": {
            "text/plain": [
              "<Figure size 640x480 with 1 Axes>"
            ],
            "image/png": "[encoded data removed]"
          },
          "metadata": {}
        }
      ]
    },
    {
      "cell_type": "markdown",
      "source": [
        "## Vector Operations\n",
        "___\n",
        "\n",
        "\n",
        "Vectors are fundamental objects in linear. Here we define operations on vectors:\n",
        "\n",
        "1. **Vector Addition**: Two vectors can be added together to create a third vector. This is done by adding the corresponding components of the two vectors.\n",
        "\n",
        "3. **Scalar Multiplication**: A vector can be multiplied by a scalar (a real number). This is done by multiplying each component of the vector by the scalar.\n",
        "\n",
        "3. **Dot Product**: The dot product (or scalar product) of two vectors is a scalar quantity that is the sum of the products of the corresponding components of the two vectors.\n",
        "\n"
      ],
      "metadata": {
        "id": "tU_tdLyqemI1"
      }
    },
    {
      "cell_type": "code",
      "source": [
        "# Define two 2D vectors\n",
        "v1 = np.array([[3],[5]])\n",
        "v2 = np.array([[4],[1]])\n",
        "\n",
        "# Calculate the sum vector\n",
        "v3 = v1 + v2\n",
        "\n",
        "# Plotting the vectors and their sum using a triangle\n",
        "fig, ax = plt.subplots()\n",
        "ax.plot([0, v1[0]], [0, v1[1]], '-^', label='v1')\n",
        "ax.plot([0, v2[0]], [0, v2[1]], '-^', label='v2')\n",
        "ax.plot([0, v3[0]], [0, v3[1]], '-^', label='v1 + v2')\n",
        "\n",
        "# Using the parallelogram rule to illustrate the vector addition\n",
        "ax.plot([v1[0], v1[0]+v2[0]], [v1[1], v1[1]+v2[1]], 'k--')\n",
        "ax.plot([v2[0], v1[0]+v2[0]], [v2[1], v1[1]+v2[1]], 'k--')\n",
        "\n",
        "# Plotting the origin and adding legend and gridlines\n",
        "ax.plot(0, 0, 'ko')\n",
        "ax.legend()\n",
        "ax.grid()\n",
        "\n",
        "# Setting axis limits and aspect ratio\n",
        "ax.set(xlim=(-10, 10), ylim=(-10, 10))\n",
        "# ax.axis('equal')\n",
        "\n",
        "# Adding a title to the plot\n",
        "ax.set_title('Vector Addition')\n",
        "\n",
        "plt.show()"
      ],
      "metadata": {
        "colab": {
          "base_uri": "https://localhost:8080/",
          "height": 507
        },
        "id": "U-cr0RGL6Gaq",
        "outputId": "e07d8283-9a2f-47bc-f947-a77951b3646f"
      },
      "execution_count": 20,
      "outputs": [
        {
          "output_type": "stream",
          "name": "stderr",
          "text": [
            "/usr/local/lib/python3.10/dist-packages/numpy/core/shape_base.py:65: VisibleDeprecationWarning: Creating an ndarray from ragged nested sequences (which is a list-or-tuple of lists-or-tuples-or ndarrays with different lengths or shapes) is deprecated. If you meant to do this, you must specify 'dtype=object' when creating the ndarray.\n",
            "  ary = asanyarray(ary)\n"
          ]
        },
        {
          "output_type": "display_data",
          "data": {
            "text/plain": [
              "<Figure size 640x480 with 1 Axes>"
            ],
            "image/png": "[encoded data removed]"
          },
          "metadata": {}
        }
      ]
    },
    {
      "cell_type": "code",
      "execution_count": 21,
      "metadata": {
        "id": "CPs7jNnvOC-Q",
        "outputId": "26346349-85a0-414e-9ac2-efac2cb150a1",
        "colab": {
          "base_uri": "https://localhost:8080/"
        }
      },
      "outputs": [
        {
          "output_type": "stream",
          "name": "stdout",
          "text": [
            "-2\n",
            "[[-4]\n",
            " [-8]]\n"
          ]
        }
      ],
      "source": [
        "# Scalaar multiplication\n",
        "\n",
        "aScalar =  -2\n",
        "print(aScalar) \n",
        "\n",
        "v1 = np.array([[2],[4]])\n",
        "\n",
        "# Algebraic\n",
        "v2 = aScalar * v1\n",
        "print(v2)\n",
        "\n",
        "\n",
        "# Geometric\n",
        "# Exercise\n"
      ]
    },
    {
      "cell_type": "markdown",
      "source": [
        "**Exercise 2: Visualizing Vector and Scalar Multiplication**\n",
        "\n",
        "Plot a vector v1 and its scalar multiplication,also extended the line  for visualization purpose."
      ],
      "metadata": {
        "id": "HPYEqZM12nay"
      }
    },
    {
      "cell_type": "code",
      "source": [
        "# code"
      ],
      "metadata": {
        "id": "otgg7fLb6vyK"
      },
      "execution_count": 22,
      "outputs": []
    },
    {
      "cell_type": "code",
      "source": [
        "#@markdown Solution\n",
        "\n",
        "# Create a figure and axis object\n",
        "fig,ax = plt.subplots()\n",
        "\n",
        "# Plot v1 and v2 and origin\n",
        "ax.plot([0,v1[0]],[0,v1[1]],'-^',linewidth = 3, label = 'v1')  \n",
        "ax.plot([0,v2[0]],[0,v2[1]],'-^',linewidth = 3,label = 'v2')\n",
        "ax.plot(0,0,'ko') \n",
        "\n",
        "# Plotting the extended line\n",
        "m = v1[1]/v1[0]     # Compute the slope of the line\n",
        "X = np.linspace(-20,20,50)     # Some x's\n",
        "Y = m * X       # compute y's\n",
        "ax.plot(X,Y,'k--')\n",
        "\n",
        "# Add a legend, gridlines, and axis labels\n",
        "ax.legend()\n",
        "ax.grid()\n",
        "ax.set(xlim=(-10, 10), ylim=(-10, 10), xlabel='X', ylabel='Y')\n",
        "\n",
        "\n",
        "plt.show()\n",
        "\n"
      ],
      "metadata": {
        "id": "o5XkHtnr2lRm",
        "outputId": "bb76300f-b03a-46b0-d0b9-57e105f14a07",
        "colab": {
          "base_uri": "https://localhost:8080/",
          "height": 455
        }
      },
      "execution_count": 23,
      "outputs": [
        {
          "output_type": "display_data",
          "data": {
            "text/plain": [
              "<Figure size 640x480 with 1 Axes>"
            ],
            "image/png": "[encoded data removed]"
          },
          "metadata": {}
        }
      ]
    },
    {
      "cell_type": "markdown",
      "source": [
        "### Dot product\n",
        "\n",
        "____\n",
        "\n",
        "**Algebraic perspective**\n",
        "\n",
        " There are several ways to compute dot product of 2 vectors in python, we can compute it through a loop or use built-in fuctions and methods.\n",
        "\n",
        "\n"
      ],
      "metadata": {
        "id": "vkGWavmpOC-R"
      }
    },
    {
      "cell_type": "code",
      "source": [
        "# Create two 5 by 5 vectors of random integers\n",
        "\n",
        "v1 = np.random.random_integers(0,5,size = (5,))\n",
        "v2 = np.random.random_integers(0,5,size = (5,))\n",
        "\n",
        "\n",
        "# We can use the buit-in funtion np.dot\n",
        "np.dot(v1,v2)\n",
        "\n"
      ],
      "metadata": {
        "id": "1aM0E8au9QJn"
      },
      "execution_count": null,
      "outputs": []
    },
    {
      "cell_type": "code",
      "source": [
        "# We can transpose the first vector and then compute matrix multiplication by second vector or vise versa (transpose and matrix multiplication are covered later)\n",
        "\n",
        "v1.T @ v2"
      ],
      "metadata": {
        "id": "3v8U9dFU_uGj",
        "outputId": "627e2baa-9534-4543-f91f-f21e6cfc6395",
        "colab": {
          "base_uri": "https://localhost:8080/"
        }
      },
      "execution_count": null,
      "outputs": [
        {
          "output_type": "execute_result",
          "data": {
            "text/plain": [
              "2"
            ]
          },
          "metadata": {},
          "execution_count": 4
        }
      ]
    },
    {
      "cell_type": "markdown",
      "source": [
        "**Exercise 3: Computing Dot Product with a Loop**\n",
        "\n",
        "Write a Python function that calculates the dot product of two vectors using a loop."
      ],
      "metadata": {
        "id": "WOG6Gsop61Nl"
      }
    },
    {
      "cell_type": "code",
      "source": [
        "#code"
      ],
      "metadata": {
        "id": "N3wsNbyb7EUK"
      },
      "execution_count": null,
      "outputs": []
    },
    {
      "cell_type": "code",
      "source": [
        "#@markdown Solution\n",
        "\n",
        "\n",
        "def dot_product(v1, v2):\n",
        "    '''\n",
        "    Computes the dot product of two vectors v1 and v2\n",
        "    '''\n",
        "    dot_product = 0\n",
        "    for i in range(len(v1)):\n",
        "        dot_product += v1[i] * v2[i]\n",
        "    return dot_product\n",
        "\n",
        "\n",
        "\n",
        "# Compute the dot product of the two vectors using the function\n",
        "result = dot_product(v1, v2)\n",
        "\n",
        "# Print the result\n",
        "print(result)\n"
      ],
      "metadata": {
        "id": "M6cqvxCo7F6e",
        "colab": {
          "base_uri": "https://localhost:8080/"
        },
        "outputId": "bb0d28e2-97ac-4e80-c576-ed9341949557"
      },
      "execution_count": null,
      "outputs": [
        {
          "output_type": "stream",
          "name": "stdout",
          "text": [
            "25\n"
          ]
        }
      ]
    },
    {
      "cell_type": "markdown",
      "source": [
        "**Dot product as a functional operator**\n",
        "\n",
        "The dot product has various applications in mathematics, physics, and engineering but it can be used to simplify some common operations like take average or smoothing or component selection."
      ],
      "metadata": {
        "id": "Ewoc4xvCwt_4"
      }
    },
    {
      "cell_type": "markdown",
      "source": [
        "\n",
        "**Exercise 4: Calculating Average Temperature Using Dot Product**\n",
        "\n",
        "You are provided with a vector that contains 24 repeated measurements of a room's temperature during a 24-hour period.\n",
        "\n",
        "Your task is to use the dot product operation to calculate the average temperature of the room over this 24-hour period."
      ],
      "metadata": {
        "id": "_MPrkJp-zU5e"
      }
    },
    {
      "cell_type": "code",
      "source": [
        "\n",
        "# Generate random temperature measurements using a normal distribution\n",
        "temps = np.random.normal(20, 4, 24)\n",
        "\n",
        "# Round the temperature measurements to the nearest integer\n",
        "temps = np.round(temps).astype(int)\n",
        "\n",
        "# Print the temperature measurements\n",
        "print(temps)\n",
        "\n",
        "# Compute average of room's temperatue:\n",
        "# Code"
      ],
      "metadata": {
        "colab": {
          "base_uri": "https://localhost:8080/"
        },
        "id": "KwiYt9mj0s2c",
        "outputId": "4cdb6074-e609-4175-9bb5-e10a36c437ac"
      },
      "execution_count": null,
      "outputs": [
        {
          "output_type": "execute_result",
          "data": {
            "text/plain": [
              "array([20, 17, 21, 22, 20, 19, 17, 17, 16, 27, 24, 20, 27, 18, 20, 17, 24,\n",
              "       20, 21, 21, 17, 22, 23, 22])"
            ]
          },
          "metadata": {},
          "execution_count": 27
        }
      ]
    },
    {
      "cell_type": "code",
      "source": [
        "#@markdown Solution\n",
        "\n",
        "# It is enough to multipy vector of temperature by a vector consiting of \n",
        "# 1/n where n is number of intries of temperature vector\n",
        "\n",
        "averager = np.ones(24) / 24\n",
        "\n",
        "# Now we can take average \n",
        "averaged_temp = np.dot(temps,averager)\n",
        "\n",
        "# Compare it to conventional average\n",
        "print(averaged_temp)\n",
        "print(np.mean(temps))\n"
      ],
      "metadata": {
        "id": "1aylfbne1VVu"
      },
      "execution_count": null,
      "outputs": []
    },
    {
      "cell_type": "markdown",
      "source": [
        "\n",
        "**Geometric perspective**"
      ],
      "metadata": {
        "id": "-ZbHsd4yKCJr"
      }
    },
    {
      "cell_type": "markdown",
      "source": [
        "The dot product of two vectors is a scalar quantity that is equal to the product of their magnitudes and the cosine of the angle between them:\n",
        "\n",
        "$$ u\\cdot v = ||\\mathbf{u}|| \\cdot ||\\mathbf{v}|| \\cdot \\cos(\\theta)$$"
      ],
      "metadata": {
        "id": "bOrJ7GNGPrVK"
      }
    },
    {
      "cell_type": "markdown",
      "source": [
        "\n",
        "**Exercise 5: Calculating and Visualizing Angle Between Vectors**\n",
        "\n",
        "Calculate the angle between two vectors, u and v, and then plot these vectors to visually confirm your answer."
      ],
      "metadata": {
        "id": "LR8GJqoCQafl"
      }
    },
    {
      "cell_type": "code",
      "source": [
        "u = np.array([[3],[5]])\n",
        "v = np.array([[0],[3]])"
      ],
      "metadata": {
        "id": "IiI2FsdSQZ0i"
      },
      "execution_count": null,
      "outputs": []
    },
    {
      "cell_type": "code",
      "source": [
        "#@markdown Solution\n",
        "\n",
        "\n",
        "# Define the vectors\n",
        "u = np.array([[3],[5]])\n",
        "v = np.array([[0],[3]])\n",
        "\n",
        "# Calculate the dot product\n",
        "dot_product = np.dot(u.T, v)\n",
        "\n",
        "# Calculate the length of the vectors\n",
        "norm_u = np.linalg.norm(u)\n",
        "norm_v = np.linalg.norm(v)\n",
        "\n",
        "# Calculate the cosine of the angle\n",
        "cos_theta = dot_product / (norm_u * norm_v)\n",
        "\n",
        "# Calculate the angle in radians\n",
        "theta_rad = np.arccos(cos_theta)\n",
        "\n",
        "# Convert to degrees\n",
        "theta_deg = np.degrees(theta_rad)\n",
        "\n",
        "print(f'The angle between vectors u and v is {theta_deg[0][0]} degrees')\n",
        "\n",
        "# Plot the vectors\n",
        "fig, ax = plt.subplots()\n",
        "\n",
        "# Plot v1 and v2 and origin\n",
        "ax.plot([0,u[0]],[0,u[1]],'-^',linewidth = 3, label = 'u')  \n",
        "ax.plot([0,v[0]],[0,v[1]],'-^',linewidth = 3,label = 'v')\n",
        "ax.plot(0,0,'ko') \n",
        "\n",
        "# Set the x and y axis limits\n",
        "ax.set_xlim(-6, 6)\n",
        "ax.set_ylim(-6, 6)\n",
        "\n",
        "# Add a legend, gridlines, and axis labels\n",
        "ax.legend()\n",
        "ax.grid()\n",
        "plt.show()\n"
      ],
      "metadata": {
        "id": "-iVL3wDeUcgf",
        "outputId": "3316020e-728b-4bbd-d1cb-019eecc6ee2e",
        "colab": {
          "base_uri": "https://localhost:8080/",
          "height": 452
        }
      },
      "execution_count": 69,
      "outputs": [
        {
          "output_type": "stream",
          "name": "stdout",
          "text": [
            "The angle between vectors u and v is 30.963756532073536 degrees\n"
          ]
        },
        {
          "output_type": "display_data",
          "data": {
            "text/plain": [
              "<Figure size 640x480 with 1 Axes>"
            ],
            "image/png": "[encoded data removed]"
          },
          "metadata": {}
        }
      ]
    },
    {
      "cell_type": "markdown",
      "metadata": {
        "id": "XAqeZkhzOC-U"
      },
      "source": [
        "### Vector length\n",
        "\n",
        "___\n",
        "\n",
        "\n",
        "There are even more ways to compute length of a vector. We can use `np.norm` or take the squre root of dot product of the vector by itself or compute lenth by a loop or ...."
      ]
    },
    {
      "cell_type": "code",
      "source": [
        "# Lenght of v1\n",
        "\n",
        "print(np.linalg.norm(v1))\n",
        "print(np.sqrt(np.dot(v1,v1)))\n",
        "\n"
      ],
      "metadata": {
        "colab": {
          "base_uri": "https://localhost:8080/"
        },
        "id": "jyToGZT-scdP",
        "outputId": "f6dc468b-a005-4c4d-c279-152ea7719759"
      },
      "execution_count": null,
      "outputs": [
        {
          "output_type": "stream",
          "name": "stdout",
          "text": [
            "5.5677643628300215\n",
            "5.5677643628300215\n"
          ]
        }
      ]
    },
    {
      "cell_type": "markdown",
      "source": [
        "Knowing the lenght of a vector it would be easy to find its unit vector we just need to devide entries by length."
      ],
      "metadata": {
        "id": "8YG5zwKpF3Lr"
      }
    },
    {
      "cell_type": "markdown",
      "metadata": {
        "id": "fqfrnPJ3OC-Z"
      },
      "source": [
        "### Unit vector\n",
        "___\n",
        "\n",
        "In general, any vector can be converted to a unit vector by dividing it by its magnitude. This process is known as normalization. For instance, if v is a vector, the unit vector in the direction of v can be calculated as follows:\n",
        "\n",
        "$$ u = \\frac{v}{\\|v\\|} $$\n",
        "\n",
        "\n",
        "Here, ||v|| denotes the magnitude (or length) of the vector v, and u is the resulting unit vector.\n",
        "\n",
        "\n",
        "\n",
        "\n"
      ]
    },
    {
      "cell_type": "markdown",
      "source": [
        "**Exercise 6: Computing and Visualizing Unit Vectors**\n",
        "\n",
        " Write a Python function that calculates the unit vector of a given vector. Once you have computed the unit vector, you should visualize it on a 2D plot to confirm that it lies on a unit circle.."
      ],
      "metadata": {
        "id": "0RviPWzLHb2P"
      }
    },
    {
      "cell_type": "code",
      "execution_count": null,
      "metadata": {
        "id": "tBlL84GBOC-U"
      },
      "outputs": [],
      "source": [
        "# code"
      ]
    },
    {
      "cell_type": "code",
      "source": [
        "#@markdown Solution\n",
        "\n",
        "def unit_vetor(v):\n",
        "  'This functions computes unit vector'\n",
        "\n",
        "  magnitude_v = np.linalg.norm(v)\n",
        "  normalized_v = v/magnitude_v\n",
        "  return normalized_v\n",
        "\n",
        "v = np.array([[3],[2]])\n",
        "unit_v = unit_vetor(v)\n",
        "\n",
        "\n",
        "fig,ax = plt.subplots()\n",
        "ax.plot([0,v[0]],[0,v[1]],'-^',linewidth = 3, label = 'v')\n",
        "ax.plot([0,unit_v[0]],[0,unit_v[1]],'-^',linewidth = 3, label = 'unit_v')\n",
        "ax.plot(0,0,'ko')\n",
        "\n",
        "# Plot unit circle \n",
        "# Define the x range\n",
        "x = np.linspace(-1, 1, 1000)\n",
        "\n",
        "# Calculate positive y and negative y\n",
        "y = np.sqrt(1 - x**2)\n",
        "y_neg = -y\n",
        "\n",
        "ax.plot(x, y, 'b')\n",
        "ax.plot(x, y_neg, 'b')\n",
        "\n",
        "# Set the x and y axis limits\n",
        "ax.set_xlim(-4, 4)\n",
        "ax.set_ylim(-4, 4)\n",
        "\n",
        "plt.grid()\n",
        "plt.legend()\n",
        "plt.gca().set_aspect('equal', adjustable='box')  # This line makes the aspect ratio equal\n",
        "plt.show()"
      ],
      "metadata": {
        "id": "p142RZVKWdwS",
        "outputId": "5c0b8701-8cda-4032-ee0c-ec6e5337893c",
        "colab": {
          "base_uri": "https://localhost:8080/",
          "height": 490
        }
      },
      "execution_count": 71,
      "outputs": [
        {
          "output_type": "stream",
          "name": "stderr",
          "text": [
            "/usr/local/lib/python3.10/dist-packages/numpy/core/shape_base.py:65: VisibleDeprecationWarning: Creating an ndarray from ragged nested sequences (which is a list-or-tuple of lists-or-tuples-or ndarrays with different lengths or shapes) is deprecated. If you meant to do this, you must specify 'dtype=object' when creating the ndarray.\n",
            "  ary = asanyarray(ary)\n"
          ]
        },
        {
          "output_type": "display_data",
          "data": {
            "text/plain": [
              "<Figure size 640x480 with 1 Axes>"
            ],
            "image/png": "[encoded data removed]"
          },
          "metadata": {}
        }
      ]
    },
    {
      "cell_type": "markdown",
      "source": [
        "### Linear projection\n",
        "____\n",
        "\n",
        "The projection of one vector onto another is a concept used frequently in linear algebra.\n",
        "\n",
        "If we have two vectors a and b, the projection of a onto b (often denoted as Proj_b(a)) is the vector in the direction of b that represents how much of a goes in that direction.\n",
        "\n",
        "Geometrically, it can be visualized by  shining a light on **a** perpendicular to **b** to create a shodow of **a** on it.\n",
        "\n",
        "Mathematically, the projection is calculated as follows:\n",
        "\n",
        "$$ \\text{{Proj}}_{\\mathbf{b}}(\\mathbf{a}) = \\left(\\frac{{\\mathbf{a} \\cdot \\mathbf{b}}}{{\\|\\mathbf{b}\\|^2}}\\right) \\mathbf{b}$$\n",
        "\n",
        "In this formula:\n",
        "\n",
        "a . b is the dot product of a and b,\n",
        "||b||^2 is the square of the magnitude (or length) of b, and\n",
        "The entire expression is multiplied by the vector b to ensure the projection is a vector in the direction of b."
      ],
      "metadata": {
        "id": "CbS6G733F4W_"
      }
    },
    {
      "cell_type": "markdown",
      "source": [
        "\n",
        "**Exercise 7: Vector Projection and Visualization**\n",
        "\n",
        "Calculate the projection of vector u onto vector v (denoted as Proj_v(u)). After computing the projection, visualize the vectors u, v, and Proj_v(u), as well as the perpendicular line from u to v to verify your calculations."
      ],
      "metadata": {
        "id": "L7cYGW96qO_O"
      }
    },
    {
      "cell_type": "code",
      "source": [
        "u  = np.array([[4],[2]])\n",
        "v  = np.array([[3],[-3]])\n",
        "\n",
        "# code"
      ],
      "metadata": {
        "id": "Ll4rteZTGBrj"
      },
      "execution_count": 88,
      "outputs": []
    },
    {
      "cell_type": "code",
      "source": [
        "from numpy.ma.core import angle\n",
        "#@markdown Solution\n",
        "\n",
        "# Calculate projection of u onto v\n",
        "proj_u_onto_v = ((u.T @ v)/np.linalg.norm(v)**2) * v\n",
        "\n",
        "\n",
        "# Plot vectors using plt.quiver() for a better visualization of vectors\n",
        "fig,ax = plt.subplots()\n",
        "\n",
        "ax.quiver(0,0,v[0],v[1],angles='xy',scale_units='xy',scale =1,label = 'v',color = 'r')\n",
        "ax.quiver(0,0,u[0],u[1],angles='xy',scale_units='xy',scale =1,label = 'u',color = 'b')\n",
        "ax.quiver(0,0,proj_u_onto_v[0],proj_u_onto_v[1],angles='xy',scale_units='xy',scale =1,label = 'proj_u_onto_v',color = 'y')\n",
        "ax.plot(0,0,'ko')\n",
        "\n",
        "# Plotting a line that is perpendicular to v and passes through tip of u\n",
        "\n",
        "# Compute the slope of the perpendicular line\n",
        "slope = -v[1]/v[0]\n",
        "# Computing intercept of the perpendicular line\n",
        "intercept = u[1] - slope*u[0]\n",
        "\n",
        "x = np.linspace(-5,5,100)\n",
        "y = slope*x + intercept\n",
        "\n",
        "ax.plot(x,y,'k--')\n",
        "# Set the x and y axis limits\n",
        "ax.set_xlim(-8, 8)\n",
        "ax.set_ylim(-8, 8)\n",
        "\n",
        "\n",
        "plt.grid()\n",
        "plt.legend()\n",
        "plt.show()\n"
      ],
      "metadata": {
        "id": "wImf99iCugy1",
        "outputId": "f99dda24-22ba-4531-c5ab-a73992b76033",
        "colab": {
          "base_uri": "https://localhost:8080/",
          "height": 435
        }
      },
      "execution_count": 90,
      "outputs": [
        {
          "output_type": "display_data",
          "data": {
            "text/plain": [
              "<Figure size 640x480 with 1 Axes>"
            ],
            "image/png": "[encoded data removed]"
          },
          "metadata": {}
        }
      ]
    },
    {
      "cell_type": "markdown",
      "source": [
        "### Linear combination\n",
        "___\n",
        "\n",
        "A linear combination is a fundamental concept in linear algebra, which involves combining a set of vectors using scalar multiplication and addition to create new vectors. \n",
        "\n",
        "$$\\mathbf{w} = c_1 \\mathbf{v}_1 + c_2 \\mathbf{v}_2 + \\ldots + c_n \\mathbf{v}_n\n",
        "$$"
      ],
      "metadata": {
        "id": "nnfI_pSiGCB_"
      }
    }
  ],
  "metadata": {
    "kernelspec": {
      "display_name": "Python 3",
      "language": "python",
      "name": "python3"
    },
    "language_info": {
      "codemirror_mode": {
        "name": "ipython",
        "version": 3
      },
      "file_extension": ".py",
      "mimetype": "text/x-python",
      "name": "python",
      "nbconvert_exporter": "python",
      "pygments_lexer": "ipython3",
      "version": "3.7.3"
    },
    "colab": {
      "provenance": [],
      "include_colab_link": true
    }
  },
  "nbformat": 4,
  "nbformat_minor": 0
}