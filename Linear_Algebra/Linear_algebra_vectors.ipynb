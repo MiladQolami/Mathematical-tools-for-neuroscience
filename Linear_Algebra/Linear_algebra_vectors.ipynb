{
  "cells": [
    {
      "cell_type": "markdown",
      "metadata": {
        "id": "view-in-github",
        "colab_type": "text"
      },
      "source": [
        "<a href=\"https://colab.research.google.com/github/MiladQolami/Mathematical-tools-for-neuroscience/blob/main/Linear_Algebra/Linear_algebra_vectors.ipynb\" target=\"_parent\"><img src=\"https://colab.research.google.com/assets/colab-badge.svg\" alt=\"Open In Colab\"/></a>"
      ]
    },
    {
      "cell_type": "markdown",
      "metadata": {
        "id": "KIzf95hkOC-H"
      },
      "source": [
        "# Vectors\n",
        "____\n"
      ]
    },
    {
      "cell_type": "code",
      "execution_count": 22,
      "metadata": {
        "id": "-ly48O4WOC-K"
      },
      "outputs": [],
      "source": [
        "import numpy as np\n",
        "import matplotlib.pyplot as plt"
      ]
    },
    {
      "cell_type": "markdown",
      "source": [
        "## Creating  and plotting vectors\n",
        "\n",
        "Vectors are lists of numbers and there are several ways to create them in python, like using built-in lists but `numpy` is a package that makes the life easier doing linear algebra in python."
      ],
      "metadata": {
        "id": "JYdmpVzwOeLv"
      }
    },
    {
      "cell_type": "code",
      "execution_count": 20,
      "metadata": {
        "colab": {
          "base_uri": "https://localhost:8080/"
        },
        "id": "LOs_6wlQOC-O",
        "outputId": "0ced4f5a-2e7d-4c93-9752-b806e767f525"
      },
      "outputs": [
        {
          "output_type": "stream",
          "name": "stdout",
          "text": [
            "[[1]\n",
            " [2]]\n"
          ]
        }
      ],
      "source": [
        "# creating a column vector with 2 entries\n",
        "aVector = np.array([[1],[2]])\n",
        "print(aVector)\n"
      ]
    },
    {
      "cell_type": "code",
      "source": [
        "# the same vecotor in a row\n",
        "aVector = np.array([[1,2]])\n",
        "print(aVector)"
      ],
      "metadata": {
        "id": "LrCVRxPdfuZk",
        "outputId": "8038ed53-67c2-4e84-9838-4e06d22b95e7",
        "colab": {
          "base_uri": "https://localhost:8080/"
        }
      },
      "execution_count": 16,
      "outputs": [
        {
          "output_type": "stream",
          "name": "stdout",
          "text": [
            "[[1 2]]\n"
          ]
        }
      ]
    },
    {
      "cell_type": "code",
      "source": [
        "# shape of a vector (number of rows and columns)\n",
        "aVector.shape"
      ],
      "metadata": {
        "id": "ThTi-rnJlpdk",
        "outputId": "8282bf98-8960-4b46-b2ad-1079bf5f1083",
        "colab": {
          "base_uri": "https://localhost:8080/"
        }
      },
      "execution_count": 17,
      "outputs": [
        {
          "output_type": "execute_result",
          "data": {
            "text/plain": [
              "(1, 2)"
            ]
          },
          "metadata": {},
          "execution_count": 17
        }
      ]
    },
    {
      "cell_type": "code",
      "source": [
        "# ploting it in a 2D plane\n",
        "fig,ax = plt.subplots()\n",
        "ax.plot([0,aVector[0]],[0,aVector[1]],'-^')   # using a triangle to indicate the tip of the vector\n",
        "ax.plot(0,0,'ko')    # ploting the origin\n",
        "ax.grid()\n",
        "ax.set(xlim = (-3,3),ylim = (-3,3))\n",
        "plt.show()"
      ],
      "metadata": {
        "id": "KYjwIG40fsHe",
        "outputId": "269b4fe3-0c25-4512-c77c-cefd911b11b7",
        "colab": {
          "base_uri": "https://localhost:8080/",
          "height": 269
        }
      },
      "execution_count": 26,
      "outputs": [
        {
          "output_type": "display_data",
          "data": {
            "text/plain": [
              "<Figure size 432x288 with 1 Axes>"
            ],
            "image/png": "[encoded data removed]"
          },
          "metadata": {
            "needs_background": "light"
          }
        }
      ]
    },
    {
      "cell_type": "markdown",
      "source": [
        "**Exerciese** \n",
        "\n",
        "plot a 3D vector with arbitrary elements."
      ],
      "metadata": {
        "id": "wZgzKxSgV4jG"
      }
    },
    {
      "cell_type": "code",
      "source": [
        "# The code"
      ],
      "metadata": {
        "id": "phYXBz_7WSPI"
      },
      "execution_count": null,
      "outputs": []
    },
    {
      "cell_type": "code",
      "source": [
        "from matplotlib import projections\n",
        "#@markdown solution\n",
        "aVector3D = np.array([[3],[3],[3]])\n",
        "fig = plt.figure()\n",
        "ax = plt.axes(projection='3d')\n",
        "ax.plot([0,aVector3D[0]],[0,aVector3D[1]],[0,aVector3D[2]],'-^')  \n",
        "ax.plot(0,0,0,'ko')    \n",
        "ax.grid()\n",
        "ax.set(xlim = (-5,5),ylim = (-5,5),zlim = (-5,5))\n",
        "plt.show()"
      ],
      "metadata": {
        "colab": {
          "base_uri": "https://localhost:8080/",
          "height": 380
        },
        "id": "Q3SGr4yDV4M8",
        "outputId": "9796a249-5d25-49e8-cd17-ebd2b4d9bebf"
      },
      "execution_count": 28,
      "outputs": [
        {
          "output_type": "stream",
          "name": "stderr",
          "text": [
            "/usr/local/lib/python3.9/dist-packages/numpy/core/fromnumeric.py:2007: VisibleDeprecationWarning: Creating an ndarray from ragged nested sequences (which is a list-or-tuple of lists-or-tuples-or ndarrays with different lengths or shapes) is deprecated. If you meant to do this, you must specify 'dtype=object' when creating the ndarray.\n",
            "  result = asarray(a).shape\n",
            "/usr/local/lib/python3.9/dist-packages/numpy/lib/stride_tricks.py:341: VisibleDeprecationWarning: Creating an ndarray from ragged nested sequences (which is a list-or-tuple of lists-or-tuples-or ndarrays with different lengths or shapes) is deprecated. If you meant to do this, you must specify 'dtype=object' when creating the ndarray.\n",
            "  array = np.array(array, copy=False, subok=subok)\n",
            "/usr/local/lib/python3.9/dist-packages/numpy/core/fromnumeric.py:1859: VisibleDeprecationWarning: Creating an ndarray from ragged nested sequences (which is a list-or-tuple of lists-or-tuples-or ndarrays with different lengths or shapes) is deprecated. If you meant to do this, you must specify 'dtype=object' when creating the ndarray.\n",
            "  return asanyarray(a).ravel(order=order)\n"
          ]
        },
        {
          "output_type": "display_data",
          "data": {
            "text/plain": [
              "<Figure size 432x288 with 1 Axes>"
            ],
            "image/png": "[encoded data removed]"
          },
          "metadata": {
            "needs_background": "light"
          }
        }
      ]
    },
    {
      "cell_type": "markdown",
      "source": [
        "## Vector Operations\n",
        "___\n"
      ],
      "metadata": {
        "id": "tU_tdLyqemI1"
      }
    },
    {
      "cell_type": "code",
      "execution_count": 35,
      "metadata": {
        "id": "oluWakurOC-P",
        "outputId": "67868554-615e-45fb-b391-8832003f3bb8",
        "colab": {
          "base_uri": "https://localhost:8080/",
          "height": 324
        }
      },
      "outputs": [
        {
          "output_type": "stream",
          "name": "stderr",
          "text": [
            "/usr/local/lib/python3.9/dist-packages/numpy/core/shape_base.py:65: VisibleDeprecationWarning: Creating an ndarray from ragged nested sequences (which is a list-or-tuple of lists-or-tuples-or ndarrays with different lengths or shapes) is deprecated. If you meant to do this, you must specify 'dtype=object' when creating the ndarray.\n",
            "  ary = asanyarray(ary)\n"
          ]
        },
        {
          "output_type": "display_data",
          "data": {
            "text/plain": [
              "<Figure size 432x288 with 1 Axes>"
            ],
            "image/png": "[encoded data removed]"
          },
          "metadata": {
            "needs_background": "light"
          }
        }
      ],
      "source": [
        "# Vector addition\n",
        "\n",
        "# creat 2 vectors in 2d plane\n",
        "v1 = np.array([[3],[5]])\n",
        "v2 = np.array([[4],[1]])\n",
        "\n",
        "# Algebraic addition\n",
        "v3 = v1 + v2\n",
        "print(v3)\n",
        "\n",
        "\n",
        "\n",
        "# Geometric addition\n",
        "fig,ax = plt.subplots()\n",
        "ax.plot([0,v1[0]],[0,v1[1]],'-^',label = 'v1')  \n",
        "ax.plot([0,v2[0]],[0,v2[1]],'-^',label = 'v2')\n",
        "ax.plot([0,v3[0]],[0,v3[1]],'-^',label = 'v1 + v2')\n",
        "\n",
        "# showing parallelogram rule\n",
        "ax.plot([v1[0],v1[0]+v2[0]],[v1[1],v1[1]+v2[1]],'k--')  # adding v2 to the tip of v1\n",
        "ax.plot([v2[0],v1[0]+v2[0]],[v2[1],v1[1]+v2[1]],'k--')  # adding v1 to the tip of v2\n",
        "\n",
        "\n",
        "ax.plot(0,0,'ko')    \n",
        "ax.legend()\n",
        "ax.grid()\n",
        "ax.set(xlim = (-10,10),ylim = (-10,10))\n",
        "plt.show()\n",
        "\n"
      ]
    },
    {
      "cell_type": "code",
      "execution_count": 72,
      "metadata": {
        "id": "CPs7jNnvOC-Q",
        "outputId": "4fdae9d4-7848-488e-d56f-a96c0fdce126",
        "colab": {
          "base_uri": "https://localhost:8080/"
        }
      },
      "outputs": [
        {
          "output_type": "stream",
          "name": "stdout",
          "text": [
            "-0.9468178710068856\n",
            "[[-2.84045361]\n",
            " [-4.73408936]]\n"
          ]
        }
      ],
      "source": [
        "# Scalaar multiplication\n",
        "# a random scalar from standard normal distribution\n",
        "aScalar =  np.random.randn()\n",
        "print(aScalar) \n",
        "\n",
        "v1 = np.array([[3],[5]])\n",
        "\n",
        "# Algebraic\n",
        "v2 = aScalar * v1\n",
        "print(v2)\n",
        "\n",
        "\n",
        "# Geometric\n",
        "# Exercise\n"
      ]
    },
    {
      "cell_type": "markdown",
      "source": [
        "**Exercise**\n",
        "\n",
        "plot v1 and its scalar multiplication and show the extended line of these vector"
      ],
      "metadata": {
        "id": "HPYEqZM12nay"
      }
    },
    {
      "cell_type": "code",
      "source": [
        "# code"
      ],
      "metadata": {
        "id": "otgg7fLb6vyK"
      },
      "execution_count": null,
      "outputs": []
    },
    {
      "cell_type": "code",
      "source": [
        "#@markdown Solution\n",
        "\n",
        "fig,ax = plt.subplots()\n",
        "ax.plot([0,v1[0]],[0,v1[1]],'-^',linewidth = 3, label = 'v1')  \n",
        "ax.plot([0,v2[0]],[0,v2[1]],'-^',linewidth = 3,label = 'v2')\n",
        "ax.plot(0,0,'ko')    \n",
        "ax.legend()\n",
        "ax.grid()\n",
        "ax.set(xlim = (-10,10),ylim = (-10,10))\n",
        "\n",
        "# plotting the extended line\n",
        "m = v1[1]/v1[0]     # The slope of the line\n",
        "X = np.linspace(-20,20,50)     # Some x's\n",
        "Y = m * X       # compute y's\n",
        "\n",
        "ax.plot(X,Y,'k--')\n",
        "plt.show()\n",
        "\n"
      ],
      "metadata": {
        "cellView": "form",
        "id": "o5XkHtnr2lRm",
        "outputId": "f214930b-9afb-4bdb-8061-6a9b82b50240",
        "colab": {
          "base_uri": "https://localhost:8080/",
          "height": 269
        }
      },
      "execution_count": 73,
      "outputs": [
        {
          "output_type": "display_data",
          "data": {
            "text/plain": [
              "<Figure size 432x288 with 1 Axes>"
            ],
            "image/png": "[encoded data removed]"
          },
          "metadata": {
            "needs_background": "light"
          }
        }
      ]
    },
    {
      "cell_type": "markdown",
      "source": [
        "## Dot product\n",
        "\n",
        "**Algebraic**\n",
        "\n",
        " There are several ways to compute dot product of 2 vectors in python, we can compute it through a loop or use built-in fuctions and methods.\n",
        "\n",
        "\n",
        "**Geometric**\n",
        "\n",
        "\n",
        "\n"
      ],
      "metadata": {
        "id": "vkGWavmpOC-R"
      }
    },
    {
      "cell_type": "code",
      "source": [
        "# Create two 5 by 5 vectors of random integers\n",
        "\n",
        "v1 = np.random.random_integers(0,5,size = (5,))\n",
        "v2 = np.random.random_integers(0,5,size = (5,))\n",
        "\n",
        "\n",
        "# We can use the buit-in funtion np.dot\n",
        "np.dot(v1,v2)\n",
        "\n"
      ],
      "metadata": {
        "id": "1aM0E8au9QJn",
        "outputId": "70eb78d9-f4eb-41b2-c978-3555c07ab5b1",
        "colab": {
          "base_uri": "https://localhost:8080/"
        }
      },
      "execution_count": 93,
      "outputs": [
        {
          "output_type": "execute_result",
          "data": {
            "text/plain": [
              "48"
            ]
          },
          "metadata": {},
          "execution_count": 93
        }
      ]
    },
    {
      "cell_type": "code",
      "source": [
        "# We can transpose the first vector and then compute matrix multiplication by second vector or vise versa (transpose and matrix multiplication are covered later)\n",
        "\n",
        "v1.T @ v2"
      ],
      "metadata": {
        "id": "3v8U9dFU_uGj",
        "outputId": "b7f8b38e-3095-4ebe-d997-7e631eb8ea22",
        "colab": {
          "base_uri": "https://localhost:8080/"
        }
      },
      "execution_count": 94,
      "outputs": [
        {
          "output_type": "execute_result",
          "data": {
            "text/plain": [
              "48"
            ]
          },
          "metadata": {},
          "execution_count": 94
        }
      ]
    },
    {
      "cell_type": "markdown",
      "source": [
        "**Exercise**\n",
        "\n",
        "Write a loop to compute dot product of v1 and v2."
      ],
      "metadata": {
        "id": "WOG6Gsop61Nl"
      }
    },
    {
      "cell_type": "code",
      "source": [
        "#code"
      ],
      "metadata": {
        "id": "N3wsNbyb7EUK"
      },
      "execution_count": null,
      "outputs": []
    },
    {
      "cell_type": "code",
      "source": [
        "#@markdown Solution\n",
        "\n",
        "\n",
        "# Initialize a variable for dot product of v1 and v2\n",
        "v1_dot_v2 = 0\n",
        "\n",
        "for i in range(5):\n",
        "  m = v1[i]*v2[i]\n",
        "  v1_dot_v2 = v1_dot_v2 + m\n",
        "\n",
        "print(v1_dot_v2)"
      ],
      "metadata": {
        "cellView": "form",
        "id": "M6cqvxCo7F6e"
      },
      "execution_count": null,
      "outputs": []
    },
    {
      "cell_type": "markdown",
      "metadata": {
        "id": "XAqeZkhzOC-U"
      },
      "source": [
        "## Vector length\n",
        "\n",
        "___\n",
        "\n",
        "\n",
        " **Algebraic**\n",
        "\n",
        "There are even more ways to compute length of a vector. we can use `np.norm` or take the squre root of dot product of the vector by itself or compute lenthe by a loop and ... ."
      ]
    },
    {
      "cell_type": "markdown",
      "source": [],
      "metadata": {
        "id": "AQDRc3-TCm8T"
      }
    },
    {
      "cell_type": "code",
      "execution_count": null,
      "metadata": {
        "id": "tBlL84GBOC-U"
      },
      "outputs": [],
      "source": [
        "# code"
      ]
    },
    {
      "cell_type": "markdown",
      "metadata": {
        "id": "fqfrnPJ3OC-Z"
      },
      "source": [
        "## Unit vector\n",
        "___\n",
        "\n"
      ]
    }
  ],
  "metadata": {
    "kernelspec": {
      "display_name": "Python 3",
      "language": "python",
      "name": "python3"
    },
    "language_info": {
      "codemirror_mode": {
        "name": "ipython",
        "version": 3
      },
      "file_extension": ".py",
      "mimetype": "text/x-python",
      "name": "python",
      "nbconvert_exporter": "python",
      "pygments_lexer": "ipython3",
      "version": "3.7.3"
    },
    "colab": {
      "provenance": [],
      "include_colab_link": true
    }
  },
  "nbformat": 4,
  "nbformat_minor": 0
}