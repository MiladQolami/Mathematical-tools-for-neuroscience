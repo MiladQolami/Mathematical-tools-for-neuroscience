{
  "cells": [
    {
      "cell_type": "markdown",
      "metadata": {
        "id": "view-in-github",
        "colab_type": "text"
      },
      "source": [
        "<a href=\"https://colab.research.google.com/github/MiladQolami/Mathematical-tools-for-neuroscience/blob/main/Linear_Algebra/Linear_algebra_vectors.ipynb\" target=\"_parent\"><img src=\"https://colab.research.google.com/assets/colab-badge.svg\" alt=\"Open In Colab\"/></a>"
      ]
    },
    {
      "cell_type": "markdown",
      "metadata": {
        "id": "KIzf95hkOC-H"
      },
      "source": [
        "# **Vectors**\n",
        "____\n"
      ]
    },
    {
      "cell_type": "markdown",
      "source": [
        "## Vectors and Operations"
      ],
      "metadata": {
        "id": "7gMJmgZX18y9"
      }
    },
    {
      "cell_type": "code",
      "execution_count": 1,
      "metadata": {
        "id": "-ly48O4WOC-K"
      },
      "outputs": [],
      "source": [
        "import numpy as np\n",
        "import matplotlib.pyplot as plt"
      ]
    },
    {
      "cell_type": "code",
      "source": [
        "#@markdown Video Tutorial\n",
        "\n",
        "from IPython.display import YouTubeVideo\n",
        "\n",
        "# Replace the video ID with the ID of the YouTube video you want to embed\n",
        "YouTubeVideo('https://www.youtube.com/watch?v=9ICqpT8nmCE&t=275s',width=800, height=500)"
      ],
      "metadata": {
        "id": "ohs1udg85hc8",
        "outputId": "3a299385-5e82-4198-ee6a-881dcaf9dcec",
        "colab": {
          "base_uri": "https://localhost:8080/",
          "height": 521
        }
      },
      "execution_count": 52,
      "outputs": [
        {
          "output_type": "execute_result",
          "data": {
            "text/plain": [
              "<IPython.lib.display.YouTubeVideo at 0x7f7fccec5e20>"
            ],
            "text/html": [
              "\n",
              "        <iframe\n",
              "            width=\"800\"\n",
              "            height=\"500\"\n",
              "            src=\"https://www.youtube.com/embed/https://www.youtube.com/watch?v=9ICqpT8nmCE&t=275s\"\n",
              "            frameborder=\"0\"\n",
              "            allowfullscreen\n",
              "            \n",
              "        ></iframe>\n",
              "        "
            ]
          },
          "metadata": {},
          "execution_count": 52
        }
      ]
    },
    {
      "cell_type": "markdown",
      "source": [
        "### Creating  and plotting vectors\n",
        "\n",
        "Vectors are lists of numbers and there are several ways to create them in python, like using built-in lists but `numpy` is a package that makes the life easier doing linear algebra in python."
      ],
      "metadata": {
        "id": "JYdmpVzwOeLv"
      }
    },
    {
      "cell_type": "code",
      "execution_count": 2,
      "metadata": {
        "colab": {
          "base_uri": "https://localhost:8080/"
        },
        "id": "LOs_6wlQOC-O",
        "outputId": "c5053abb-791a-45ff-f258-695ee1d4542f"
      },
      "outputs": [
        {
          "output_type": "stream",
          "name": "stdout",
          "text": [
            "[[1]\n",
            " [2]]\n"
          ]
        }
      ],
      "source": [
        "# creating a column vector with 2 entries\n",
        "aVector = np.array([[1],[2]])\n",
        "print(aVector)\n"
      ]
    },
    {
      "cell_type": "code",
      "source": [
        "# the same vecotor in a row\n",
        "aVector = np.array([[1,2]])\n",
        "print(aVector)"
      ],
      "metadata": {
        "id": "LrCVRxPdfuZk",
        "outputId": "8038ed53-67c2-4e84-9838-4e06d22b95e7",
        "colab": {
          "base_uri": "https://localhost:8080/"
        }
      },
      "execution_count": null,
      "outputs": [
        {
          "output_type": "stream",
          "name": "stdout",
          "text": [
            "[[1 2]]\n"
          ]
        }
      ]
    },
    {
      "cell_type": "code",
      "source": [
        "# shape of a vector (number of rows and columns)\n",
        "aVector.shape"
      ],
      "metadata": {
        "id": "ThTi-rnJlpdk",
        "outputId": "8282bf98-8960-4b46-b2ad-1079bf5f1083",
        "colab": {
          "base_uri": "https://localhost:8080/"
        }
      },
      "execution_count": null,
      "outputs": [
        {
          "output_type": "execute_result",
          "data": {
            "text/plain": [
              "(1, 2)"
            ]
          },
          "metadata": {},
          "execution_count": 17
        }
      ]
    },
    {
      "cell_type": "code",
      "source": [
        "# ploting it in a 2D plane\n",
        "fig,ax = plt.subplots()\n",
        "ax.plot([0,aVector[0]],[0,aVector[1]],'-^')  # Using a triangle to indicate the tip of the vector\n",
        "ax.plot(0,0,'ko')    # ploting the origin\n",
        "\n",
        "# Adding axis labels and gridlines\n",
        "ax.set(xlabel='x', ylabel='y',xlim = (-3,3), ylim = (-3,3), title='Vector Plot')\n",
        "ax.grid()\n",
        "\n",
        "plt.show()"
      ],
      "metadata": {
        "id": "KYjwIG40fsHe",
        "outputId": "ee2b6c36-988f-4d33-9ea4-70f0c8d4f96b",
        "colab": {
          "base_uri": "https://localhost:8080/",
          "height": 295
        }
      },
      "execution_count": 7,
      "outputs": [
        {
          "output_type": "display_data",
          "data": {
            "text/plain": [
              "<Figure size 432x288 with 1 Axes>"
            ],
            "image/png": "[encoded data removed]"
          },
          "metadata": {
            "needs_background": "light"
          }
        }
      ]
    },
    {
      "cell_type": "markdown",
      "source": [
        "**Exerciese 1** \n",
        "\n",
        "plot a 3D vector with arbitrary elements."
      ],
      "metadata": {
        "id": "wZgzKxSgV4jG"
      }
    },
    {
      "cell_type": "code",
      "source": [
        "# The code"
      ],
      "metadata": {
        "id": "phYXBz_7WSPI"
      },
      "execution_count": null,
      "outputs": []
    },
    {
      "cell_type": "code",
      "source": [
        "#@markdown solution\n",
        "\n",
        "aVector3D = np.array([1, 2, 3])\n",
        "\n",
        "# Creating a 3D plot\n",
        "fig = plt.figure()\n",
        "ax = fig.add_subplot(111, projection='3d')\n",
        "\n",
        "# Plotting the vector\n",
        "ax.plot([0,aVector3D[0]],[0,aVector3D[1]],[0,aVector3D[2]],'-^')  \n",
        "ax.plot(0,0,0,'ko') \n",
        "\n",
        "# Adding axis labels, limtis and a title to the plot\n",
        "ax.set(xlim = (-5,5),ylim = (-5,5),zlim = (-5,5), xlabel='X', ylabel='Y', zlabel='Z', title='Vector Plot')\n",
        "ax.grid()\n",
        "\n",
        "plt.show()"
      ],
      "metadata": {
        "colab": {
          "base_uri": "https://localhost:8080/",
          "height": 272
        },
        "id": "Q3SGr4yDV4M8",
        "outputId": "51a87b3c-0f38-48c1-a50d-2ae2b284b100",
        "cellView": "form"
      },
      "execution_count": 14,
      "outputs": [
        {
          "output_type": "display_data",
          "data": {
            "text/plain": [
              "<Figure size 432x288 with 1 Axes>"
            ],
            "image/png": "[encoded data removed]"
          },
          "metadata": {
            "needs_background": "light"
          }
        }
      ]
    },
    {
      "cell_type": "markdown",
      "source": [
        "## Vector Operations\n",
        "___\n"
      ],
      "metadata": {
        "id": "tU_tdLyqemI1"
      }
    },
    {
      "cell_type": "code",
      "source": [
        "# Define two 2D vectors\n",
        "v1 = np.array([[3],[5]])\n",
        "v2 = np.array([[4],[1]])\n",
        "\n",
        "# Calculate the sum vector\n",
        "v3 = v1 + v2\n",
        "\n",
        "# Plotting the vectors and their sum using a triangle\n",
        "fig, ax = plt.subplots()\n",
        "ax.plot([0, v1[0]], [0, v1[1]], '-^', label='v1')\n",
        "ax.plot([0, v2[0]], [0, v2[1]], '-^', label='v2')\n",
        "ax.plot([0, v3[0]], [0, v3[1]], '-^', label='v1 + v2')\n",
        "\n",
        "# Using the parallelogram rule to illustrate the vector addition\n",
        "ax.plot([v1[0], v1[0]+v2[0]], [v1[1], v1[1]+v2[1]], 'k--')\n",
        "ax.plot([v2[0], v1[0]+v2[0]], [v2[1], v1[1]+v2[1]], 'k--')\n",
        "\n",
        "# Plotting the origin and adding legend and gridlines\n",
        "ax.plot(0, 0, 'ko')\n",
        "ax.legend()\n",
        "ax.grid()\n",
        "\n",
        "# Setting axis limits and aspect ratio\n",
        "ax.set(xlim=(-10, 10), ylim=(-10, 10))\n",
        "# ax.axis('equal')\n",
        "\n",
        "# Adding a title to the plot\n",
        "ax.set_title('Vector Addition')\n",
        "\n",
        "plt.show()"
      ],
      "metadata": {
        "id": "U-cr0RGL6Gaq",
        "outputId": "85af7a55-c49d-4eed-b0c5-53986ff42d66",
        "colab": {
          "base_uri": "https://localhost:8080/",
          "height": 281
        }
      },
      "execution_count": 19,
      "outputs": [
        {
          "output_type": "display_data",
          "data": {
            "text/plain": [
              "<Figure size 432x288 with 1 Axes>"
            ],
            "image/png": "[encoded data removed]"
          },
          "metadata": {
            "needs_background": "light"
          }
        }
      ]
    },
    {
      "cell_type": "code",
      "execution_count": 71,
      "metadata": {
        "id": "CPs7jNnvOC-Q",
        "outputId": "778d5bb7-e4fc-45ce-d784-f1e667080eb4",
        "colab": {
          "base_uri": "https://localhost:8080/"
        }
      },
      "outputs": [
        {
          "output_type": "stream",
          "name": "stdout",
          "text": [
            "-2\n",
            "[[-4]\n",
            " [-8]]\n"
          ]
        }
      ],
      "source": [
        "# Scalaar multiplication\n",
        "\n",
        "aScalar =  -2\n",
        "print(aScalar) \n",
        "\n",
        "v1 = np.array([[2],[4]])\n",
        "\n",
        "# Algebraic\n",
        "v2 = aScalar * v1\n",
        "print(v2)\n",
        "\n",
        "\n",
        "# Geometric\n",
        "# Exercise\n"
      ]
    },
    {
      "cell_type": "markdown",
      "source": [
        "**Exercise 2**\n",
        "\n",
        "plot v1 and its scalar multiplication and show the extended line of these vector"
      ],
      "metadata": {
        "id": "HPYEqZM12nay"
      }
    },
    {
      "cell_type": "code",
      "source": [
        "# code"
      ],
      "metadata": {
        "id": "otgg7fLb6vyK"
      },
      "execution_count": null,
      "outputs": []
    },
    {
      "cell_type": "code",
      "source": [
        "#@markdown Solution\n",
        "\n",
        "# Create a figure and axis object\n",
        "fig,ax = plt.subplots()\n",
        "\n",
        "# Plot v1 and v2 and origin\n",
        "ax.plot([0,v1[0]],[0,v1[1]],'-^',linewidth = 3, label = 'v1')  \n",
        "ax.plot([0,v2[0]],[0,v2[1]],'-^',linewidth = 3,label = 'v2')\n",
        "ax.plot(0,0,'ko') \n",
        "\n",
        "# Plotting the extended line\n",
        "m = v1[1]/v1[0]     # Compute the slope of the line\n",
        "X = np.linspace(-20,20,50)     # Some x's\n",
        "Y = m * X       # compute y's\n",
        "ax.plot(X,Y,'k--')\n",
        "\n",
        "# Add a legend, gridlines, and axis labels\n",
        "ax.legend()\n",
        "ax.grid()\n",
        "ax.set(xlim=(-10, 10), ylim=(-10, 10), xlabel='X', ylabel='Y')\n",
        "\n",
        "\n",
        "plt.show()\n",
        "\n"
      ],
      "metadata": {
        "id": "o5XkHtnr2lRm",
        "outputId": "8d69c29d-2840-4001-be74-b8fe107cbe69",
        "colab": {
          "base_uri": "https://localhost:8080/",
          "height": 283
        }
      },
      "execution_count": 72,
      "outputs": [
        {
          "output_type": "display_data",
          "data": {
            "text/plain": [
              "<Figure size 432x288 with 1 Axes>"
            ],
            "image/png": "[encoded data removed]"
          },
          "metadata": {
            "needs_background": "light"
          }
        }
      ]
    },
    {
      "cell_type": "markdown",
      "source": [
        "## Dot product\n",
        "\n",
        "**Algebraic**\n",
        "\n",
        " There are several ways to compute dot product of 2 vectors in python, we can compute it through a loop or use built-in fuctions and methods.\n",
        "\n",
        "\n",
        "**Geometric**\n",
        "\n",
        "\n",
        "\n"
      ],
      "metadata": {
        "id": "vkGWavmpOC-R"
      }
    },
    {
      "cell_type": "code",
      "source": [
        "# Create two 5 by 5 vectors of random integers\n",
        "\n",
        "v1 = np.random.random_integers(0,5,size = (5,))\n",
        "v2 = np.random.random_integers(0,5,size = (5,))\n",
        "\n",
        "\n",
        "# We can use the buit-in funtion np.dot\n",
        "np.dot(v1,v2)\n",
        "\n"
      ],
      "metadata": {
        "id": "1aM0E8au9QJn"
      },
      "execution_count": null,
      "outputs": []
    },
    {
      "cell_type": "code",
      "source": [
        "# We can transpose the first vector and then compute matrix multiplication by second vector or vise versa (transpose and matrix multiplication are covered later)\n",
        "\n",
        "v1.T @ v2"
      ],
      "metadata": {
        "id": "3v8U9dFU_uGj",
        "outputId": "627e2baa-9534-4543-f91f-f21e6cfc6395",
        "colab": {
          "base_uri": "https://localhost:8080/"
        }
      },
      "execution_count": 4,
      "outputs": [
        {
          "output_type": "execute_result",
          "data": {
            "text/plain": [
              "2"
            ]
          },
          "metadata": {},
          "execution_count": 4
        }
      ]
    },
    {
      "cell_type": "markdown",
      "source": [
        "**Exercise 3**\n",
        "\n",
        "Write a function that computes dot product of two vectors through a loop. Use your functions to cumpute dot product of v1 and v2 to make sure your code works properly."
      ],
      "metadata": {
        "id": "WOG6Gsop61Nl"
      }
    },
    {
      "cell_type": "code",
      "source": [
        "#code"
      ],
      "metadata": {
        "id": "N3wsNbyb7EUK"
      },
      "execution_count": null,
      "outputs": []
    },
    {
      "cell_type": "code",
      "source": [
        "#@markdown Solution\n",
        "\n",
        "\n",
        "def dot_product(v1, v2):\n",
        "    '''\n",
        "    Computes the dot product of two vectors v1 and v2\n",
        "    '''\n",
        "    dot_product = 0\n",
        "    for i in range(len(v1)):\n",
        "        dot_product += v1[i] * v2[i]\n",
        "    return dot_product\n",
        "\n",
        "\n",
        "\n",
        "# Compute the dot product of the two vectors using the function\n",
        "result = dot_product(v1, v2)\n",
        "\n",
        "# Print the result\n",
        "print(result)\n"
      ],
      "metadata": {
        "id": "M6cqvxCo7F6e",
        "outputId": "bb0d28e2-97ac-4e80-c576-ed9341949557",
        "colab": {
          "base_uri": "https://localhost:8080/"
        }
      },
      "execution_count": 7,
      "outputs": [
        {
          "output_type": "stream",
          "name": "stdout",
          "text": [
            "25\n"
          ]
        }
      ]
    },
    {
      "cell_type": "markdown",
      "source": [
        "**Dot product as a functional operator**\n",
        "\n",
        "The dot product has various applications in mathematics, physics, and engineering but it can be used to simplify some common operations like take average or smoothing or component selection."
      ],
      "metadata": {
        "id": "Ewoc4xvCwt_4"
      }
    },
    {
      "cell_type": "markdown",
      "source": [
        "**Exercise 4**\n",
        "\n",
        "The vector below contains 24 repeated  measurements of a room's temperature during a 24-hour period. \n",
        "\n",
        "Use dot product to take average tempreture of the room."
      ],
      "metadata": {
        "id": "_MPrkJp-zU5e"
      }
    },
    {
      "cell_type": "code",
      "source": [
        "\n",
        "# Generate random temperature measurements using a normal distribution\n",
        "temps = np.random.normal(20, 4, 24)\n",
        "\n",
        "# Round the temperature measurements to the nearest integer\n",
        "temps = np.round(temps).astype(int)\n",
        "\n",
        "# Print the temperature measurements\n",
        "print(temps)\n",
        "\n",
        "# Compute average of room's temperatue:\n",
        "# Code"
      ],
      "metadata": {
        "id": "KwiYt9mj0s2c",
        "outputId": "4cdb6074-e609-4175-9bb5-e10a36c437ac",
        "colab": {
          "base_uri": "https://localhost:8080/"
        }
      },
      "execution_count": 27,
      "outputs": [
        {
          "output_type": "execute_result",
          "data": {
            "text/plain": [
              "array([20, 17, 21, 22, 20, 19, 17, 17, 16, 27, 24, 20, 27, 18, 20, 17, 24,\n",
              "       20, 21, 21, 17, 22, 23, 22])"
            ]
          },
          "metadata": {},
          "execution_count": 27
        }
      ]
    },
    {
      "cell_type": "code",
      "source": [
        "#@markdown Solution\n",
        "\n",
        "# It is enough to multipy vector of temperature by a vector consiting of \n",
        "# 1/n where n is number of intries of temperature vector\n",
        "\n",
        "averager = np.ones(24) / 24\n",
        "\n",
        "# Now we can take average \n",
        "averaged_temp = np.dot(temps,averager)\n",
        "\n",
        "# Compare it to conventional average\n",
        "print(averaged_temp)\n",
        "print(np.mean(temps))\n"
      ],
      "metadata": {
        "cellView": "form",
        "id": "1aylfbne1VVu"
      },
      "execution_count": null,
      "outputs": []
    },
    {
      "cell_type": "markdown",
      "metadata": {
        "id": "XAqeZkhzOC-U"
      },
      "source": [
        "## Vector length\n",
        "\n",
        "___\n",
        "\n",
        "\n",
        " **Algebraic**\n",
        "\n",
        "There are even more ways to compute length of a vector. We can use `np.norm` or take the squre root of dot product of the vector by itself or compute lenth by a loop or ...."
      ]
    },
    {
      "cell_type": "code",
      "source": [
        "# Lenght of v1\n",
        "\n",
        "print(np.linalg.norm(v1))\n",
        "print(np.sqrt(np.dot(v1,v1)))\n",
        "\n"
      ],
      "metadata": {
        "id": "jyToGZT-scdP",
        "outputId": "f6dc468b-a005-4c4d-c279-152ea7719759",
        "colab": {
          "base_uri": "https://localhost:8080/"
        }
      },
      "execution_count": 18,
      "outputs": [
        {
          "output_type": "stream",
          "name": "stdout",
          "text": [
            "5.5677643628300215\n",
            "5.5677643628300215\n"
          ]
        }
      ]
    },
    {
      "cell_type": "code",
      "execution_count": null,
      "metadata": {
        "id": "tBlL84GBOC-U"
      },
      "outputs": [],
      "source": [
        "# code"
      ]
    },
    {
      "cell_type": "markdown",
      "metadata": {
        "id": "fqfrnPJ3OC-Z"
      },
      "source": [
        "## Unit vector\n",
        "___\n",
        "\n"
      ]
    }
  ],
  "metadata": {
    "kernelspec": {
      "display_name": "Python 3",
      "language": "python",
      "name": "python3"
    },
    "language_info": {
      "codemirror_mode": {
        "name": "ipython",
        "version": 3
      },
      "file_extension": ".py",
      "mimetype": "text/x-python",
      "name": "python",
      "nbconvert_exporter": "python",
      "pygments_lexer": "ipython3",
      "version": "3.7.3"
    },
    "colab": {
      "provenance": [],
      "include_colab_link": true
    }
  },
  "nbformat": 4,
  "nbformat_minor": 0
}