{
  "cells": [
    {
      "cell_type": "markdown",
      "metadata": {
        "id": "view-in-github",
        "colab_type": "text"
      },
      "source": [
        "<a href=\"https://colab.research.google.com/github/MiladQolami/Mathematical-tools-for-neuroscience/blob/main/Linear_Algebra/Linear_algebra_vectors.ipynb\" target=\"_parent\"><img src=\"https://colab.research.google.com/assets/colab-badge.svg\" alt=\"Open In Colab\"/></a>"
      ]
    },
    {
      "cell_type": "markdown",
      "metadata": {
        "id": "KIzf95hkOC-H"
      },
      "source": [
        "# Vectors\n",
        "____\n"
      ]
    },
    {
      "cell_type": "code",
      "execution_count": 2,
      "metadata": {
        "id": "-ly48O4WOC-K"
      },
      "outputs": [],
      "source": [
        "import numpy as np\n",
        "import matplotlib.pyplot as plt"
      ]
    },
    {
      "cell_type": "markdown",
      "source": [
        "## Creating vectors\n",
        "\n",
        "vectors are lists of numbers and there are several ways to create them in python like using built-in lists but `numpy` is a package that makes the life easier doing linear algebra in python."
      ],
      "metadata": {
        "id": "JYdmpVzwOeLv"
      }
    },
    {
      "cell_type": "code",
      "execution_count": 48,
      "metadata": {
        "colab": {
          "base_uri": "https://localhost:8080/",
          "height": 325
        },
        "id": "LOs_6wlQOC-O",
        "outputId": "7d55702b-60f6-4eb4-b4d7-205a0f254e4d"
      },
      "outputs": [
        {
          "output_type": "stream",
          "name": "stderr",
          "text": [
            "/usr/local/lib/python3.9/dist-packages/numpy/core/shape_base.py:65: VisibleDeprecationWarning: Creating an ndarray from ragged nested sequences (which is a list-or-tuple of lists-or-tuples-or ndarrays with different lengths or shapes) is deprecated. If you meant to do this, you must specify 'dtype=object' when creating the ndarray.\n",
            "  ary = asanyarray(ary)\n"
          ]
        },
        {
          "output_type": "display_data",
          "data": {
            "text/plain": [
              "<Figure size 432x288 with 1 Axes>"
            ],
            "image/png": "[encoded data removed]"
          },
          "metadata": {
            "needs_background": "light"
          }
        }
      ],
      "source": [
        "\n",
        "# creating a column vector with 2 entries\n",
        "aVector = np.array([[1],[2]])\n",
        "print(aVector)\n",
        "\n",
        "\n",
        "# ploting it in a 2D plane\n",
        "fig = plt.figure()\n",
        "ax = plt.subplots()\n",
        "ax.plot([0,aVector[0]],[0,aVector[1]],'-^')   # using a triangle to indicate tip of the vectro\n",
        "ax.plot(0,0,'ko')    # ploting the origin\n",
        "ax.grid()\n",
        "ax.set(xlim = (-3,3),ylim = (-3,3))\n",
        "plt.show()\n",
        "\n"
      ]
    },
    {
      "cell_type": "markdown",
      "source": [
        "**Exerciese** \n",
        "\n",
        "plot a 3D vector with arbitrary elements."
      ],
      "metadata": {
        "id": "wZgzKxSgV4jG"
      }
    },
    {
      "cell_type": "code",
      "source": [
        "# The code"
      ],
      "metadata": {
        "id": "phYXBz_7WSPI"
      },
      "execution_count": null,
      "outputs": []
    },
    {
      "cell_type": "code",
      "source": [
        "from matplotlib import projections\n",
        "#@markdown solution\n",
        "aVect3D = np.array([[1],[3],[2]])\n",
        "fig = plt.figure()\n",
        "ax = plt.axes(projection='3d')\n",
        "ax.plot([0,aVect3D[0]],[0,aVect3D[1]],[0,aVect3D[2]],'-^')  \n",
        "ax.plot(0,0,0,'ko')    \n",
        "ax.grid()\n",
        "ax.set(xlim = (-5,5),ylim = (-5,5),zlim = (-5,5))\n",
        "plt.show()"
      ],
      "metadata": {
        "colab": {
          "base_uri": "https://localhost:8080/",
          "height": 256
        },
        "cellView": "form",
        "id": "Q3SGr4yDV4M8",
        "outputId": "e00fafed-69a4-477d-d458-c302e1e0d675"
      },
      "execution_count": 75,
      "outputs": [
        {
          "output_type": "display_data",
          "data": {
            "text/plain": [
              "<Figure size 432x288 with 1 Axes>"
            ],
            "image/png": "[encoded data removed]"
          },
          "metadata": {
            "needs_background": "light"
          }
        }
      ]
    },
    {
      "cell_type": "markdown",
      "source": [
        "## Vector Operations\n",
        "___\n"
      ],
      "metadata": {
        "id": "tU_tdLyqemI1"
      }
    },
    {
      "cell_type": "code",
      "execution_count": null,
      "metadata": {
        "id": "oluWakurOC-P"
      },
      "outputs": [],
      "source": [
        "# Vector addition\n",
        "\n",
        "\n",
        "# Algebraic addition\n",
        "\n",
        "\n",
        "# Geometric addition\n"
      ]
    },
    {
      "cell_type": "code",
      "execution_count": null,
      "metadata": {
        "id": "CPs7jNnvOC-Q"
      },
      "outputs": [],
      "source": [
        "# Scalaar multiplication\n",
        "\n",
        "# Algebraic\n",
        "\n",
        "\n",
        "# Geometric\n",
        "\n",
        "\n",
        "\n",
        "\n",
        "# plot them\n"
      ]
    },
    {
      "cell_type": "code",
      "execution_count": null,
      "metadata": {
        "id": "vkGWavmpOC-R"
      },
      "outputs": [],
      "source": [
        "# Dot product\n",
        "\n",
        "\n",
        "# Algebraic\n",
        "\n",
        "# Geometric\n",
        "\n",
        "\n",
        "\n"
      ]
    },
    {
      "cell_type": "markdown",
      "metadata": {
        "id": "XAqeZkhzOC-U"
      },
      "source": [
        "## Vector length\n",
        "\n",
        "___\n"
      ]
    },
    {
      "cell_type": "code",
      "execution_count": null,
      "metadata": {
        "id": "tBlL84GBOC-U"
      },
      "outputs": [],
      "source": [
        "# code"
      ]
    },
    {
      "cell_type": "markdown",
      "metadata": {
        "id": "fqfrnPJ3OC-Z"
      },
      "source": [
        "## Unit vector\n",
        "___\n",
        "\n"
      ]
    }
  ],
  "metadata": {
    "kernelspec": {
      "display_name": "Python 3",
      "language": "python",
      "name": "python3"
    },
    "language_info": {
      "codemirror_mode": {
        "name": "ipython",
        "version": 3
      },
      "file_extension": ".py",
      "mimetype": "text/x-python",
      "name": "python",
      "nbconvert_exporter": "python",
      "pygments_lexer": "ipython3",
      "version": "3.7.3"
    },
    "colab": {
      "provenance": [],
      "include_colab_link": true
    }
  },
  "nbformat": 4,
  "nbformat_minor": 0
}